{
  "cells": [
    {
      "cell_type": "markdown",
      "metadata": {
        "id": "view-in-github",
        "colab_type": "text"
      },
      "source": [
        "<a href=\"https://colab.research.google.com/github/supriyakale81/Pandas/blob/main/EMPLOYEE.ipynb\" target=\"_parent\"><img src=\"https://colab.research.google.com/assets/colab-badge.svg\" alt=\"Open In Colab\"/></a>"
      ]
    },
    {
      "cell_type": "code",
      "source": [
        "from google.colab import drive\n",
        "drive.mount('/content/drive')"
      ],
      "metadata": {
        "colab": {
          "base_uri": "https://localhost:8080/"
        },
        "id": "-85LFw-gTPp9",
        "outputId": "a5a134e9-3196-45a8-841b-bc52fb51abfd"
      },
      "id": "-85LFw-gTPp9",
      "execution_count": 1,
      "outputs": [
        {
          "output_type": "stream",
          "name": "stdout",
          "text": [
            "Mounted at /content/drive\n"
          ]
        }
      ]
    },
    {
      "cell_type": "code",
      "execution_count": 2,
      "id": "dceddd9e",
      "metadata": {
        "id": "dceddd9e"
      },
      "outputs": [],
      "source": [
        "import numpy as np\n",
        "import pandas as pd\n"
      ]
    },
    {
      "cell_type": "code",
      "execution_count": 3,
      "id": "0cdb0d05",
      "metadata": {
        "colab": {
          "base_uri": "https://localhost:8080/",
          "height": 424
        },
        "id": "0cdb0d05",
        "outputId": "8061a26c-c65c-469c-be4c-bbd4588a76ec"
      },
      "outputs": [
        {
          "output_type": "execute_result",
          "data": {
            "text/plain": [
              "      Education  JoiningYear       City  PaymentTier  Age  Gender EverBenched  \\\n",
              "0     Bachelors         2017  Bangalore            3   34    Male          No   \n",
              "1     Bachelors         2013       Pune            1   28  Female          No   \n",
              "2     Bachelors         2014  New Delhi            3   38  Female          No   \n",
              "3       Masters         2016  Bangalore            3   27    Male          No   \n",
              "4       Masters         2017       Pune            3   24    Male         Yes   \n",
              "...         ...          ...        ...          ...  ...     ...         ...   \n",
              "4648  Bachelors         2013  Bangalore            3   26  Female          No   \n",
              "4649    Masters         2013       Pune            2   37    Male          No   \n",
              "4650    Masters         2018  New Delhi            3   27    Male          No   \n",
              "4651  Bachelors         2012  Bangalore            3   30    Male         Yes   \n",
              "4652  Bachelors         2015  Bangalore            3   33    Male         Yes   \n",
              "\n",
              "      ExperienceInCurrentDomain  LeaveOrNot  \n",
              "0                             0           0  \n",
              "1                             3           1  \n",
              "2                             2           0  \n",
              "3                             5           1  \n",
              "4                             2           1  \n",
              "...                         ...         ...  \n",
              "4648                          4           0  \n",
              "4649                          2           1  \n",
              "4650                          5           1  \n",
              "4651                          2           0  \n",
              "4652                          4           0  \n",
              "\n",
              "[4653 rows x 9 columns]"
            ],
            "text/html": [
              "\n",
              "  <div id=\"df-3cbedceb-a147-4d37-848e-d09847c3a569\">\n",
              "    <div class=\"colab-df-container\">\n",
              "      <div>\n",
              "<style scoped>\n",
              "    .dataframe tbody tr th:only-of-type {\n",
              "        vertical-align: middle;\n",
              "    }\n",
              "\n",
              "    .dataframe tbody tr th {\n",
              "        vertical-align: top;\n",
              "    }\n",
              "\n",
              "    .dataframe thead th {\n",
              "        text-align: right;\n",
              "    }\n",
              "</style>\n",
              "<table border=\"1\" class=\"dataframe\">\n",
              "  <thead>\n",
              "    <tr style=\"text-align: right;\">\n",
              "      <th></th>\n",
              "      <th>Education</th>\n",
              "      <th>JoiningYear</th>\n",
              "      <th>City</th>\n",
              "      <th>PaymentTier</th>\n",
              "      <th>Age</th>\n",
              "      <th>Gender</th>\n",
              "      <th>EverBenched</th>\n",
              "      <th>ExperienceInCurrentDomain</th>\n",
              "      <th>LeaveOrNot</th>\n",
              "    </tr>\n",
              "  </thead>\n",
              "  <tbody>\n",
              "    <tr>\n",
              "      <th>0</th>\n",
              "      <td>Bachelors</td>\n",
              "      <td>2017</td>\n",
              "      <td>Bangalore</td>\n",
              "      <td>3</td>\n",
              "      <td>34</td>\n",
              "      <td>Male</td>\n",
              "      <td>No</td>\n",
              "      <td>0</td>\n",
              "      <td>0</td>\n",
              "    </tr>\n",
              "    <tr>\n",
              "      <th>1</th>\n",
              "      <td>Bachelors</td>\n",
              "      <td>2013</td>\n",
              "      <td>Pune</td>\n",
              "      <td>1</td>\n",
              "      <td>28</td>\n",
              "      <td>Female</td>\n",
              "      <td>No</td>\n",
              "      <td>3</td>\n",
              "      <td>1</td>\n",
              "    </tr>\n",
              "    <tr>\n",
              "      <th>2</th>\n",
              "      <td>Bachelors</td>\n",
              "      <td>2014</td>\n",
              "      <td>New Delhi</td>\n",
              "      <td>3</td>\n",
              "      <td>38</td>\n",
              "      <td>Female</td>\n",
              "      <td>No</td>\n",
              "      <td>2</td>\n",
              "      <td>0</td>\n",
              "    </tr>\n",
              "    <tr>\n",
              "      <th>3</th>\n",
              "      <td>Masters</td>\n",
              "      <td>2016</td>\n",
              "      <td>Bangalore</td>\n",
              "      <td>3</td>\n",
              "      <td>27</td>\n",
              "      <td>Male</td>\n",
              "      <td>No</td>\n",
              "      <td>5</td>\n",
              "      <td>1</td>\n",
              "    </tr>\n",
              "    <tr>\n",
              "      <th>4</th>\n",
              "      <td>Masters</td>\n",
              "      <td>2017</td>\n",
              "      <td>Pune</td>\n",
              "      <td>3</td>\n",
              "      <td>24</td>\n",
              "      <td>Male</td>\n",
              "      <td>Yes</td>\n",
              "      <td>2</td>\n",
              "      <td>1</td>\n",
              "    </tr>\n",
              "    <tr>\n",
              "      <th>...</th>\n",
              "      <td>...</td>\n",
              "      <td>...</td>\n",
              "      <td>...</td>\n",
              "      <td>...</td>\n",
              "      <td>...</td>\n",
              "      <td>...</td>\n",
              "      <td>...</td>\n",
              "      <td>...</td>\n",
              "      <td>...</td>\n",
              "    </tr>\n",
              "    <tr>\n",
              "      <th>4648</th>\n",
              "      <td>Bachelors</td>\n",
              "      <td>2013</td>\n",
              "      <td>Bangalore</td>\n",
              "      <td>3</td>\n",
              "      <td>26</td>\n",
              "      <td>Female</td>\n",
              "      <td>No</td>\n",
              "      <td>4</td>\n",
              "      <td>0</td>\n",
              "    </tr>\n",
              "    <tr>\n",
              "      <th>4649</th>\n",
              "      <td>Masters</td>\n",
              "      <td>2013</td>\n",
              "      <td>Pune</td>\n",
              "      <td>2</td>\n",
              "      <td>37</td>\n",
              "      <td>Male</td>\n",
              "      <td>No</td>\n",
              "      <td>2</td>\n",
              "      <td>1</td>\n",
              "    </tr>\n",
              "    <tr>\n",
              "      <th>4650</th>\n",
              "      <td>Masters</td>\n",
              "      <td>2018</td>\n",
              "      <td>New Delhi</td>\n",
              "      <td>3</td>\n",
              "      <td>27</td>\n",
              "      <td>Male</td>\n",
              "      <td>No</td>\n",
              "      <td>5</td>\n",
              "      <td>1</td>\n",
              "    </tr>\n",
              "    <tr>\n",
              "      <th>4651</th>\n",
              "      <td>Bachelors</td>\n",
              "      <td>2012</td>\n",
              "      <td>Bangalore</td>\n",
              "      <td>3</td>\n",
              "      <td>30</td>\n",
              "      <td>Male</td>\n",
              "      <td>Yes</td>\n",
              "      <td>2</td>\n",
              "      <td>0</td>\n",
              "    </tr>\n",
              "    <tr>\n",
              "      <th>4652</th>\n",
              "      <td>Bachelors</td>\n",
              "      <td>2015</td>\n",
              "      <td>Bangalore</td>\n",
              "      <td>3</td>\n",
              "      <td>33</td>\n",
              "      <td>Male</td>\n",
              "      <td>Yes</td>\n",
              "      <td>4</td>\n",
              "      <td>0</td>\n",
              "    </tr>\n",
              "  </tbody>\n",
              "</table>\n",
              "<p>4653 rows × 9 columns</p>\n",
              "</div>\n",
              "      <button class=\"colab-df-convert\" onclick=\"convertToInteractive('df-3cbedceb-a147-4d37-848e-d09847c3a569')\"\n",
              "              title=\"Convert this dataframe to an interactive table.\"\n",
              "              style=\"display:none;\">\n",
              "        \n",
              "  <svg xmlns=\"http://www.w3.org/2000/svg\" height=\"24px\"viewBox=\"0 0 24 24\"\n",
              "       width=\"24px\">\n",
              "    <path d=\"M0 0h24v24H0V0z\" fill=\"none\"/>\n",
              "    <path d=\"M18.56 5.44l.94 2.06.94-2.06 2.06-.94-2.06-.94-.94-2.06-.94 2.06-2.06.94zm-11 1L8.5 8.5l.94-2.06 2.06-.94-2.06-.94L8.5 2.5l-.94 2.06-2.06.94zm10 10l.94 2.06.94-2.06 2.06-.94-2.06-.94-.94-2.06-.94 2.06-2.06.94z\"/><path d=\"M17.41 7.96l-1.37-1.37c-.4-.4-.92-.59-1.43-.59-.52 0-1.04.2-1.43.59L10.3 9.45l-7.72 7.72c-.78.78-.78 2.05 0 2.83L4 21.41c.39.39.9.59 1.41.59.51 0 1.02-.2 1.41-.59l7.78-7.78 2.81-2.81c.8-.78.8-2.07 0-2.86zM5.41 20L4 18.59l7.72-7.72 1.47 1.35L5.41 20z\"/>\n",
              "  </svg>\n",
              "      </button>\n",
              "      \n",
              "  <style>\n",
              "    .colab-df-container {\n",
              "      display:flex;\n",
              "      flex-wrap:wrap;\n",
              "      gap: 12px;\n",
              "    }\n",
              "\n",
              "    .colab-df-convert {\n",
              "      background-color: #E8F0FE;\n",
              "      border: none;\n",
              "      border-radius: 50%;\n",
              "      cursor: pointer;\n",
              "      display: none;\n",
              "      fill: #1967D2;\n",
              "      height: 32px;\n",
              "      padding: 0 0 0 0;\n",
              "      width: 32px;\n",
              "    }\n",
              "\n",
              "    .colab-df-convert:hover {\n",
              "      background-color: #E2EBFA;\n",
              "      box-shadow: 0px 1px 2px rgba(60, 64, 67, 0.3), 0px 1px 3px 1px rgba(60, 64, 67, 0.15);\n",
              "      fill: #174EA6;\n",
              "    }\n",
              "\n",
              "    [theme=dark] .colab-df-convert {\n",
              "      background-color: #3B4455;\n",
              "      fill: #D2E3FC;\n",
              "    }\n",
              "\n",
              "    [theme=dark] .colab-df-convert:hover {\n",
              "      background-color: #434B5C;\n",
              "      box-shadow: 0px 1px 3px 1px rgba(0, 0, 0, 0.15);\n",
              "      filter: drop-shadow(0px 1px 2px rgba(0, 0, 0, 0.3));\n",
              "      fill: #FFFFFF;\n",
              "    }\n",
              "  </style>\n",
              "\n",
              "      <script>\n",
              "        const buttonEl =\n",
              "          document.querySelector('#df-3cbedceb-a147-4d37-848e-d09847c3a569 button.colab-df-convert');\n",
              "        buttonEl.style.display =\n",
              "          google.colab.kernel.accessAllowed ? 'block' : 'none';\n",
              "\n",
              "        async function convertToInteractive(key) {\n",
              "          const element = document.querySelector('#df-3cbedceb-a147-4d37-848e-d09847c3a569');\n",
              "          const dataTable =\n",
              "            await google.colab.kernel.invokeFunction('convertToInteractive',\n",
              "                                                     [key], {});\n",
              "          if (!dataTable) return;\n",
              "\n",
              "          const docLinkHtml = 'Like what you see? Visit the ' +\n",
              "            '<a target=\"_blank\" href=https://colab.research.google.com/notebooks/data_table.ipynb>data table notebook</a>'\n",
              "            + ' to learn more about interactive tables.';\n",
              "          element.innerHTML = '';\n",
              "          dataTable['output_type'] = 'display_data';\n",
              "          await google.colab.output.renderOutput(dataTable, element);\n",
              "          const docLink = document.createElement('div');\n",
              "          docLink.innerHTML = docLinkHtml;\n",
              "          element.appendChild(docLink);\n",
              "        }\n",
              "      </script>\n",
              "    </div>\n",
              "  </div>\n",
              "  "
            ]
          },
          "metadata": {},
          "execution_count": 3
        }
      ],
      "source": [
        "# read dataset\n",
        "df = pd.read_csv(\"/content/drive/MyDrive/datasets/Employee.csv\")\n",
        "df"
      ]
    },
    {
      "cell_type": "code",
      "execution_count": 4,
      "id": "8cda2f61",
      "metadata": {
        "colab": {
          "base_uri": "https://localhost:8080/"
        },
        "id": "8cda2f61",
        "outputId": "699ca8a6-6a6e-4021-b86f-5f3c6c5b44c5"
      },
      "outputs": [
        {
          "output_type": "stream",
          "name": "stdout",
          "text": [
            "<class 'pandas.core.frame.DataFrame'>\n",
            "RangeIndex: 4653 entries, 0 to 4652\n",
            "Data columns (total 9 columns):\n",
            " #   Column                     Non-Null Count  Dtype \n",
            "---  ------                     --------------  ----- \n",
            " 0   Education                  4653 non-null   object\n",
            " 1   JoiningYear                4653 non-null   int64 \n",
            " 2   City                       4653 non-null   object\n",
            " 3   PaymentTier                4653 non-null   int64 \n",
            " 4   Age                        4653 non-null   int64 \n",
            " 5   Gender                     4653 non-null   object\n",
            " 6   EverBenched                4653 non-null   object\n",
            " 7   ExperienceInCurrentDomain  4653 non-null   int64 \n",
            " 8   LeaveOrNot                 4653 non-null   int64 \n",
            "dtypes: int64(5), object(4)\n",
            "memory usage: 327.3+ KB\n"
          ]
        }
      ],
      "source": [
        "df.info()"
      ]
    },
    {
      "cell_type": "code",
      "execution_count": 5,
      "id": "69ae7621",
      "metadata": {
        "colab": {
          "base_uri": "https://localhost:8080/"
        },
        "id": "69ae7621",
        "outputId": "09e0f0d9-5e8a-4afa-df49-2557f488dcdc"
      },
      "outputs": [
        {
          "output_type": "execute_result",
          "data": {
            "text/plain": [
              "Education                    0\n",
              "JoiningYear                  0\n",
              "City                         0\n",
              "PaymentTier                  0\n",
              "Age                          0\n",
              "Gender                       0\n",
              "EverBenched                  0\n",
              "ExperienceInCurrentDomain    0\n",
              "LeaveOrNot                   0\n",
              "dtype: int64"
            ]
          },
          "metadata": {},
          "execution_count": 5
        }
      ],
      "source": [
        "# chek missing values\n",
        "df.isna().sum()"
      ]
    },
    {
      "cell_type": "markdown",
      "id": "dcd92ab1",
      "metadata": {
        "id": "dcd92ab1"
      },
      "source": [
        "### Find Bachelore from pune and banglore who is under age 30."
      ]
    },
    {
      "cell_type": "code",
      "execution_count": 6,
      "id": "3837cb94",
      "metadata": {
        "colab": {
          "base_uri": "https://localhost:8080/"
        },
        "id": "3837cb94",
        "outputId": "0bec4169-9b04-471f-a275-d6be71874537"
      },
      "outputs": [
        {
          "output_type": "execute_result",
          "data": {
            "text/plain": [
              "Bachelors    1963\n",
              "Name: Education, dtype: int64"
            ]
          },
          "metadata": {},
          "execution_count": 6
        }
      ],
      "source": [
        "d1=df.loc[((df['City']=='Bangalore')|(df['City']=='Pune'))& (df['Age']<30)&(df['Education']=='Bachelors')]\n",
        "d1['Education'].value_counts()"
      ]
    },
    {
      "cell_type": "markdown",
      "id": "9b2c8277",
      "metadata": {
        "id": "9b2c8277"
      },
      "source": [
        "### Increased experience by 1 and add  column new experience in dataset"
      ]
    },
    {
      "cell_type": "code",
      "execution_count": 7,
      "id": "b40f015a",
      "metadata": {
        "id": "b40f015a"
      },
      "outputs": [],
      "source": [
        "new=[]\n",
        "for x in df['ExperienceInCurrentDomain']:\n",
        "    x=x+1\n",
        "    new.append(x)\n",
        "# print(new)\n",
        "    "
      ]
    },
    {
      "cell_type": "code",
      "execution_count": 8,
      "id": "1fb4b46f",
      "metadata": {
        "id": "1fb4b46f"
      },
      "outputs": [],
      "source": [
        "df['NewExperience']=new"
      ]
    },
    {
      "cell_type": "code",
      "execution_count": 9,
      "id": "07096ab2",
      "metadata": {
        "colab": {
          "base_uri": "https://localhost:8080/",
          "height": 206
        },
        "id": "07096ab2",
        "outputId": "821c87c1-ebdd-4186-eb2c-1c90ff2f1183"
      },
      "outputs": [
        {
          "output_type": "execute_result",
          "data": {
            "text/plain": [
              "   Education  JoiningYear       City  PaymentTier  Age  Gender EverBenched  \\\n",
              "0  Bachelors         2017  Bangalore            3   34    Male          No   \n",
              "1  Bachelors         2013       Pune            1   28  Female          No   \n",
              "2  Bachelors         2014  New Delhi            3   38  Female          No   \n",
              "3    Masters         2016  Bangalore            3   27    Male          No   \n",
              "4    Masters         2017       Pune            3   24    Male         Yes   \n",
              "\n",
              "   ExperienceInCurrentDomain  LeaveOrNot  NewExperience  \n",
              "0                          0           0              1  \n",
              "1                          3           1              4  \n",
              "2                          2           0              3  \n",
              "3                          5           1              6  \n",
              "4                          2           1              3  "
            ],
            "text/html": [
              "\n",
              "  <div id=\"df-8abdd923-9194-4486-be0f-1424bdcfd1ea\">\n",
              "    <div class=\"colab-df-container\">\n",
              "      <div>\n",
              "<style scoped>\n",
              "    .dataframe tbody tr th:only-of-type {\n",
              "        vertical-align: middle;\n",
              "    }\n",
              "\n",
              "    .dataframe tbody tr th {\n",
              "        vertical-align: top;\n",
              "    }\n",
              "\n",
              "    .dataframe thead th {\n",
              "        text-align: right;\n",
              "    }\n",
              "</style>\n",
              "<table border=\"1\" class=\"dataframe\">\n",
              "  <thead>\n",
              "    <tr style=\"text-align: right;\">\n",
              "      <th></th>\n",
              "      <th>Education</th>\n",
              "      <th>JoiningYear</th>\n",
              "      <th>City</th>\n",
              "      <th>PaymentTier</th>\n",
              "      <th>Age</th>\n",
              "      <th>Gender</th>\n",
              "      <th>EverBenched</th>\n",
              "      <th>ExperienceInCurrentDomain</th>\n",
              "      <th>LeaveOrNot</th>\n",
              "      <th>NewExperience</th>\n",
              "    </tr>\n",
              "  </thead>\n",
              "  <tbody>\n",
              "    <tr>\n",
              "      <th>0</th>\n",
              "      <td>Bachelors</td>\n",
              "      <td>2017</td>\n",
              "      <td>Bangalore</td>\n",
              "      <td>3</td>\n",
              "      <td>34</td>\n",
              "      <td>Male</td>\n",
              "      <td>No</td>\n",
              "      <td>0</td>\n",
              "      <td>0</td>\n",
              "      <td>1</td>\n",
              "    </tr>\n",
              "    <tr>\n",
              "      <th>1</th>\n",
              "      <td>Bachelors</td>\n",
              "      <td>2013</td>\n",
              "      <td>Pune</td>\n",
              "      <td>1</td>\n",
              "      <td>28</td>\n",
              "      <td>Female</td>\n",
              "      <td>No</td>\n",
              "      <td>3</td>\n",
              "      <td>1</td>\n",
              "      <td>4</td>\n",
              "    </tr>\n",
              "    <tr>\n",
              "      <th>2</th>\n",
              "      <td>Bachelors</td>\n",
              "      <td>2014</td>\n",
              "      <td>New Delhi</td>\n",
              "      <td>3</td>\n",
              "      <td>38</td>\n",
              "      <td>Female</td>\n",
              "      <td>No</td>\n",
              "      <td>2</td>\n",
              "      <td>0</td>\n",
              "      <td>3</td>\n",
              "    </tr>\n",
              "    <tr>\n",
              "      <th>3</th>\n",
              "      <td>Masters</td>\n",
              "      <td>2016</td>\n",
              "      <td>Bangalore</td>\n",
              "      <td>3</td>\n",
              "      <td>27</td>\n",
              "      <td>Male</td>\n",
              "      <td>No</td>\n",
              "      <td>5</td>\n",
              "      <td>1</td>\n",
              "      <td>6</td>\n",
              "    </tr>\n",
              "    <tr>\n",
              "      <th>4</th>\n",
              "      <td>Masters</td>\n",
              "      <td>2017</td>\n",
              "      <td>Pune</td>\n",
              "      <td>3</td>\n",
              "      <td>24</td>\n",
              "      <td>Male</td>\n",
              "      <td>Yes</td>\n",
              "      <td>2</td>\n",
              "      <td>1</td>\n",
              "      <td>3</td>\n",
              "    </tr>\n",
              "  </tbody>\n",
              "</table>\n",
              "</div>\n",
              "      <button class=\"colab-df-convert\" onclick=\"convertToInteractive('df-8abdd923-9194-4486-be0f-1424bdcfd1ea')\"\n",
              "              title=\"Convert this dataframe to an interactive table.\"\n",
              "              style=\"display:none;\">\n",
              "        \n",
              "  <svg xmlns=\"http://www.w3.org/2000/svg\" height=\"24px\"viewBox=\"0 0 24 24\"\n",
              "       width=\"24px\">\n",
              "    <path d=\"M0 0h24v24H0V0z\" fill=\"none\"/>\n",
              "    <path d=\"M18.56 5.44l.94 2.06.94-2.06 2.06-.94-2.06-.94-.94-2.06-.94 2.06-2.06.94zm-11 1L8.5 8.5l.94-2.06 2.06-.94-2.06-.94L8.5 2.5l-.94 2.06-2.06.94zm10 10l.94 2.06.94-2.06 2.06-.94-2.06-.94-.94-2.06-.94 2.06-2.06.94z\"/><path d=\"M17.41 7.96l-1.37-1.37c-.4-.4-.92-.59-1.43-.59-.52 0-1.04.2-1.43.59L10.3 9.45l-7.72 7.72c-.78.78-.78 2.05 0 2.83L4 21.41c.39.39.9.59 1.41.59.51 0 1.02-.2 1.41-.59l7.78-7.78 2.81-2.81c.8-.78.8-2.07 0-2.86zM5.41 20L4 18.59l7.72-7.72 1.47 1.35L5.41 20z\"/>\n",
              "  </svg>\n",
              "      </button>\n",
              "      \n",
              "  <style>\n",
              "    .colab-df-container {\n",
              "      display:flex;\n",
              "      flex-wrap:wrap;\n",
              "      gap: 12px;\n",
              "    }\n",
              "\n",
              "    .colab-df-convert {\n",
              "      background-color: #E8F0FE;\n",
              "      border: none;\n",
              "      border-radius: 50%;\n",
              "      cursor: pointer;\n",
              "      display: none;\n",
              "      fill: #1967D2;\n",
              "      height: 32px;\n",
              "      padding: 0 0 0 0;\n",
              "      width: 32px;\n",
              "    }\n",
              "\n",
              "    .colab-df-convert:hover {\n",
              "      background-color: #E2EBFA;\n",
              "      box-shadow: 0px 1px 2px rgba(60, 64, 67, 0.3), 0px 1px 3px 1px rgba(60, 64, 67, 0.15);\n",
              "      fill: #174EA6;\n",
              "    }\n",
              "\n",
              "    [theme=dark] .colab-df-convert {\n",
              "      background-color: #3B4455;\n",
              "      fill: #D2E3FC;\n",
              "    }\n",
              "\n",
              "    [theme=dark] .colab-df-convert:hover {\n",
              "      background-color: #434B5C;\n",
              "      box-shadow: 0px 1px 3px 1px rgba(0, 0, 0, 0.15);\n",
              "      filter: drop-shadow(0px 1px 2px rgba(0, 0, 0, 0.3));\n",
              "      fill: #FFFFFF;\n",
              "    }\n",
              "  </style>\n",
              "\n",
              "      <script>\n",
              "        const buttonEl =\n",
              "          document.querySelector('#df-8abdd923-9194-4486-be0f-1424bdcfd1ea button.colab-df-convert');\n",
              "        buttonEl.style.display =\n",
              "          google.colab.kernel.accessAllowed ? 'block' : 'none';\n",
              "\n",
              "        async function convertToInteractive(key) {\n",
              "          const element = document.querySelector('#df-8abdd923-9194-4486-be0f-1424bdcfd1ea');\n",
              "          const dataTable =\n",
              "            await google.colab.kernel.invokeFunction('convertToInteractive',\n",
              "                                                     [key], {});\n",
              "          if (!dataTable) return;\n",
              "\n",
              "          const docLinkHtml = 'Like what you see? Visit the ' +\n",
              "            '<a target=\"_blank\" href=https://colab.research.google.com/notebooks/data_table.ipynb>data table notebook</a>'\n",
              "            + ' to learn more about interactive tables.';\n",
              "          element.innerHTML = '';\n",
              "          dataTable['output_type'] = 'display_data';\n",
              "          await google.colab.output.renderOutput(dataTable, element);\n",
              "          const docLink = document.createElement('div');\n",
              "          docLink.innerHTML = docLinkHtml;\n",
              "          element.appendChild(docLink);\n",
              "        }\n",
              "      </script>\n",
              "    </div>\n",
              "  </div>\n",
              "  "
            ]
          },
          "metadata": {},
          "execution_count": 9
        }
      ],
      "source": [
        "df.head()"
      ]
    },
    {
      "cell_type": "code",
      "execution_count": 10,
      "id": "631709b9",
      "metadata": {
        "colab": {
          "base_uri": "https://localhost:8080/"
        },
        "id": "631709b9",
        "outputId": "e4540110-799e-4a9b-c447-240b2c479bc5"
      },
      "outputs": [
        {
          "output_type": "execute_result",
          "data": {
            "text/plain": [
              "array(['Bachelors', 'Masters', 'PHD'], dtype=object)"
            ]
          },
          "metadata": {},
          "execution_count": 10
        }
      ],
      "source": [
        "df.Education.unique()"
      ]
    },
    {
      "cell_type": "markdown",
      "id": "74400b60",
      "metadata": {
        "id": "74400b60"
      },
      "source": [
        "### Compare bachelors and masters in 2014 to 2018 with male and females."
      ]
    },
    {
      "cell_type": "code",
      "execution_count": 11,
      "id": "478e7830",
      "metadata": {
        "colab": {
          "base_uri": "https://localhost:8080/"
        },
        "id": "478e7830",
        "outputId": "44336643-6aef-464b-9bc7-1d96cb4c2df4"
      },
      "outputs": [
        {
          "output_type": "execute_result",
          "data": {
            "text/plain": [
              "Gender  Education\n",
              "Female  Bachelors    1065\n",
              "        Masters       322\n",
              "Male    Bachelors    1564\n",
              "        Masters       404\n",
              "Name: Education, dtype: int64"
            ]
          },
          "metadata": {},
          "execution_count": 11
        }
      ],
      "source": [
        "d2=df.loc[((df['JoiningYear']<=2018)&(df['JoiningYear']>=2014))&(df['Education']!='PHD')]\n",
        "d2.groupby('Gender')['Education'].value_counts()"
      ]
    },
    {
      "cell_type": "markdown",
      "id": "b24a778c",
      "metadata": {
        "id": "b24a778c"
      },
      "source": [
        "### Make a category of junior and senior \n",
        "### if ExperienceInCurrentDomain <= 3 ---> Junior\n",
        "### if ExperienceInCurrentDomain >3 ---> senior"
      ]
    },
    {
      "cell_type": "code",
      "execution_count": 12,
      "id": "d97dc51f",
      "metadata": {
        "id": "d97dc51f"
      },
      "outputs": [],
      "source": [
        "ExpCat=[]\n",
        "for x in df['ExperienceInCurrentDomain']:\n",
        "    if x<=3:\n",
        "        ExpCat.append('Junior')\n",
        "    else:\n",
        "        ExpCat.append('Senior')\n",
        "        "
      ]
    },
    {
      "cell_type": "code",
      "source": [
        "df['ExperienceCategory']=ExpCat"
      ],
      "metadata": {
        "id": "vigSeaFFWzyt"
      },
      "id": "vigSeaFFWzyt",
      "execution_count": 13,
      "outputs": []
    },
    {
      "cell_type": "code",
      "source": [
        "df[['ExperienceCategory','Gender','Education']].value_counts()"
      ],
      "metadata": {
        "colab": {
          "base_uri": "https://localhost:8080/"
        },
        "id": "5v1JcEVCW4HM",
        "outputId": "4470cbe5-8692-450c-81f8-baba29d06edc"
      },
      "id": "5v1JcEVCW4HM",
      "execution_count": 14,
      "outputs": [
        {
          "output_type": "execute_result",
          "data": {
            "text/plain": [
              "ExperienceCategory  Gender  Education\n",
              "Junior              Male    Bachelors    1274\n",
              "Senior              Male    Bachelors     892\n",
              "Junior              Female  Bachelors     852\n",
              "Senior              Female  Bachelors     583\n",
              "Junior              Male    Masters       309\n",
              "                    Female  Masters       242\n",
              "Senior              Male    Masters       193\n",
              "                    Female  Masters       129\n",
              "Junior              Male    PHD            66\n",
              "Senior              Male    PHD            44\n",
              "Junior              Female  PHD            43\n",
              "Senior              Female  PHD            26\n",
              "dtype: int64"
            ]
          },
          "metadata": {},
          "execution_count": 14
        }
      ]
    },
    {
      "cell_type": "code",
      "source": [
        "df.pivot_table(index='Gender',values=['ExperienceCategory','Education'],aggfunc='count')"
      ],
      "metadata": {
        "colab": {
          "base_uri": "https://localhost:8080/",
          "height": 143
        },
        "id": "X4We__W0Y3BE",
        "outputId": "599c482a-aa9b-430e-ba87-3e5ec2c76ecb"
      },
      "id": "X4We__W0Y3BE",
      "execution_count": 16,
      "outputs": [
        {
          "output_type": "execute_result",
          "data": {
            "text/plain": [
              "        Education  ExperienceCategory\n",
              "Gender                               \n",
              "Female       1875                1875\n",
              "Male         2778                2778"
            ],
            "text/html": [
              "\n",
              "  <div id=\"df-4f47cb1b-27c0-4358-bfe0-0358000afa73\">\n",
              "    <div class=\"colab-df-container\">\n",
              "      <div>\n",
              "<style scoped>\n",
              "    .dataframe tbody tr th:only-of-type {\n",
              "        vertical-align: middle;\n",
              "    }\n",
              "\n",
              "    .dataframe tbody tr th {\n",
              "        vertical-align: top;\n",
              "    }\n",
              "\n",
              "    .dataframe thead th {\n",
              "        text-align: right;\n",
              "    }\n",
              "</style>\n",
              "<table border=\"1\" class=\"dataframe\">\n",
              "  <thead>\n",
              "    <tr style=\"text-align: right;\">\n",
              "      <th></th>\n",
              "      <th>Education</th>\n",
              "      <th>ExperienceCategory</th>\n",
              "    </tr>\n",
              "    <tr>\n",
              "      <th>Gender</th>\n",
              "      <th></th>\n",
              "      <th></th>\n",
              "    </tr>\n",
              "  </thead>\n",
              "  <tbody>\n",
              "    <tr>\n",
              "      <th>Female</th>\n",
              "      <td>1875</td>\n",
              "      <td>1875</td>\n",
              "    </tr>\n",
              "    <tr>\n",
              "      <th>Male</th>\n",
              "      <td>2778</td>\n",
              "      <td>2778</td>\n",
              "    </tr>\n",
              "  </tbody>\n",
              "</table>\n",
              "</div>\n",
              "      <button class=\"colab-df-convert\" onclick=\"convertToInteractive('df-4f47cb1b-27c0-4358-bfe0-0358000afa73')\"\n",
              "              title=\"Convert this dataframe to an interactive table.\"\n",
              "              style=\"display:none;\">\n",
              "        \n",
              "  <svg xmlns=\"http://www.w3.org/2000/svg\" height=\"24px\"viewBox=\"0 0 24 24\"\n",
              "       width=\"24px\">\n",
              "    <path d=\"M0 0h24v24H0V0z\" fill=\"none\"/>\n",
              "    <path d=\"M18.56 5.44l.94 2.06.94-2.06 2.06-.94-2.06-.94-.94-2.06-.94 2.06-2.06.94zm-11 1L8.5 8.5l.94-2.06 2.06-.94-2.06-.94L8.5 2.5l-.94 2.06-2.06.94zm10 10l.94 2.06.94-2.06 2.06-.94-2.06-.94-.94-2.06-.94 2.06-2.06.94z\"/><path d=\"M17.41 7.96l-1.37-1.37c-.4-.4-.92-.59-1.43-.59-.52 0-1.04.2-1.43.59L10.3 9.45l-7.72 7.72c-.78.78-.78 2.05 0 2.83L4 21.41c.39.39.9.59 1.41.59.51 0 1.02-.2 1.41-.59l7.78-7.78 2.81-2.81c.8-.78.8-2.07 0-2.86zM5.41 20L4 18.59l7.72-7.72 1.47 1.35L5.41 20z\"/>\n",
              "  </svg>\n",
              "      </button>\n",
              "      \n",
              "  <style>\n",
              "    .colab-df-container {\n",
              "      display:flex;\n",
              "      flex-wrap:wrap;\n",
              "      gap: 12px;\n",
              "    }\n",
              "\n",
              "    .colab-df-convert {\n",
              "      background-color: #E8F0FE;\n",
              "      border: none;\n",
              "      border-radius: 50%;\n",
              "      cursor: pointer;\n",
              "      display: none;\n",
              "      fill: #1967D2;\n",
              "      height: 32px;\n",
              "      padding: 0 0 0 0;\n",
              "      width: 32px;\n",
              "    }\n",
              "\n",
              "    .colab-df-convert:hover {\n",
              "      background-color: #E2EBFA;\n",
              "      box-shadow: 0px 1px 2px rgba(60, 64, 67, 0.3), 0px 1px 3px 1px rgba(60, 64, 67, 0.15);\n",
              "      fill: #174EA6;\n",
              "    }\n",
              "\n",
              "    [theme=dark] .colab-df-convert {\n",
              "      background-color: #3B4455;\n",
              "      fill: #D2E3FC;\n",
              "    }\n",
              "\n",
              "    [theme=dark] .colab-df-convert:hover {\n",
              "      background-color: #434B5C;\n",
              "      box-shadow: 0px 1px 3px 1px rgba(0, 0, 0, 0.15);\n",
              "      filter: drop-shadow(0px 1px 2px rgba(0, 0, 0, 0.3));\n",
              "      fill: #FFFFFF;\n",
              "    }\n",
              "  </style>\n",
              "\n",
              "      <script>\n",
              "        const buttonEl =\n",
              "          document.querySelector('#df-4f47cb1b-27c0-4358-bfe0-0358000afa73 button.colab-df-convert');\n",
              "        buttonEl.style.display =\n",
              "          google.colab.kernel.accessAllowed ? 'block' : 'none';\n",
              "\n",
              "        async function convertToInteractive(key) {\n",
              "          const element = document.querySelector('#df-4f47cb1b-27c0-4358-bfe0-0358000afa73');\n",
              "          const dataTable =\n",
              "            await google.colab.kernel.invokeFunction('convertToInteractive',\n",
              "                                                     [key], {});\n",
              "          if (!dataTable) return;\n",
              "\n",
              "          const docLinkHtml = 'Like what you see? Visit the ' +\n",
              "            '<a target=\"_blank\" href=https://colab.research.google.com/notebooks/data_table.ipynb>data table notebook</a>'\n",
              "            + ' to learn more about interactive tables.';\n",
              "          element.innerHTML = '';\n",
              "          dataTable['output_type'] = 'display_data';\n",
              "          await google.colab.output.renderOutput(dataTable, element);\n",
              "          const docLink = document.createElement('div');\n",
              "          docLink.innerHTML = docLinkHtml;\n",
              "          element.appendChild(docLink);\n",
              "        }\n",
              "      </script>\n",
              "    </div>\n",
              "  </div>\n",
              "  "
            ]
          },
          "metadata": {},
          "execution_count": 16
        }
      ]
    },
    {
      "cell_type": "code",
      "execution_count": 17,
      "id": "b943c938",
      "metadata": {
        "id": "b943c938"
      },
      "outputs": [],
      "source": [
        "##3)\n",
        "\n",
        "Ins=[]\n",
        "for x in df['Age']:\n",
        "    if 'Female' in(df['Gender']):\n",
        "        if (20<=x<=27):\n",
        "            i=3000+(3000*10/100)\n",
        "            Ins.append(i)\n",
        "        elif 27<x<=35:\n",
        "            i=5000+(5000*12/100)\n",
        "            Ins.append(i)\n",
        "        elif x>35:\n",
        "            i=9000+(9000*15/100)\n",
        "            Ins.append(i)\n",
        "    else:\n",
        "        if (20<=x<=27):\n",
        "            Ins.append(3000)\n",
        "        elif 27<x<=35:\n",
        "            Ins.append(5000)\n",
        "        elif x>35:\n",
        "            Ins.append(9000)        "
      ]
    },
    {
      "cell_type": "code",
      "execution_count": 18,
      "id": "dd7f31bc",
      "metadata": {
        "id": "dd7f31bc"
      },
      "outputs": [],
      "source": [
        "Ins=[]\n",
        "for x in df['Age']:\n",
        "    if (20<=x<=27):\n",
        "        if 'Female' in df['Gender']: \n",
        "            i=3000+(3000*10/100)\n",
        "            Ins.append(i)\n",
        "        else:\n",
        "            Ins.append(3000) \n",
        "    elif 27<x<=35:\n",
        "        if 'Female' in df['Gender']:\n",
        "            i=5000+(5000*12/100)\n",
        "            Ins.append(i)\n",
        "        else:\n",
        "            Ins.append(5000)\n",
        "    elif x>35:\n",
        "        if 'Female' in df['Gender']:\n",
        "            i=9000+(9000*15/100)\n",
        "            Ins.append(i)\n",
        "        else:\n",
        "            Ins.append(3000)\n",
        "    "
      ]
    },
    {
      "cell_type": "code",
      "execution_count": 19,
      "id": "f5fa7667",
      "metadata": {
        "id": "f5fa7667",
        "outputId": "8c479345-71c7-4648-9a9f-97e3aa94a8e7",
        "colab": {
          "base_uri": "https://localhost:8080/"
        }
      },
      "outputs": [
        {
          "output_type": "stream",
          "name": "stdout",
          "text": [
            "[5000, 5000, 3000, 3000, 3000, 3000, 3000, 5000, 3000, 3000, 3000, 5000, 5000, 3000, 3000, 5000, 5000, 5000, 5000, 3000, 3000, 5000, 3000, 3000, 5000, 3000, 3000, 3000, 5000, 5000, 3000, 3000, 3000, 3000, 3000, 5000, 5000, 5000, 5000, 5000, 3000, 3000, 5000, 3000, 3000, 3000, 3000, 5000, 5000, 5000, 5000, 3000, 5000, 5000, 5000, 5000, 3000, 3000, 5000, 3000, 5000, 5000, 3000, 3000, 5000, 3000, 3000, 5000, 3000, 3000, 3000, 5000, 3000, 3000, 3000, 3000, 3000, 3000, 3000, 3000, 3000, 5000, 3000, 3000, 3000, 3000, 3000, 5000, 5000, 5000, 5000, 3000, 5000, 3000, 3000, 3000, 5000, 3000, 5000, 3000, 3000, 3000, 3000, 5000, 5000, 5000, 3000, 5000, 3000, 3000, 3000, 3000, 3000, 3000, 5000, 3000, 5000, 3000, 3000, 3000, 5000, 3000, 3000, 3000, 5000, 3000, 5000, 3000, 3000, 3000, 3000, 5000, 3000, 3000, 3000, 3000, 3000, 5000, 5000, 3000, 3000, 3000, 5000, 3000, 3000, 5000, 3000, 5000, 3000, 3000, 3000, 3000, 3000, 3000, 3000, 3000, 5000, 3000, 3000, 5000, 5000, 3000, 3000, 3000, 3000, 3000, 3000, 3000, 5000, 3000, 5000, 3000, 5000, 3000, 3000, 3000, 3000, 3000, 3000, 3000, 3000, 3000, 3000, 3000, 5000, 3000, 3000, 5000, 3000, 3000, 3000, 3000, 5000, 3000, 3000, 5000, 3000, 3000, 5000, 5000, 3000, 3000, 3000, 3000, 3000, 3000, 3000, 3000, 5000, 3000, 3000, 3000, 5000, 5000, 3000, 3000, 3000, 3000, 3000, 3000, 3000, 3000, 5000, 3000, 3000, 5000, 3000, 3000, 3000, 3000, 3000, 3000, 3000, 3000, 3000, 3000, 3000, 3000, 5000, 3000, 3000, 3000, 5000, 3000, 3000, 3000, 5000, 3000, 3000, 3000, 5000, 3000, 3000, 5000, 3000, 3000, 3000, 5000, 3000, 3000, 5000, 3000, 3000, 3000, 3000, 3000, 3000, 3000, 3000, 3000, 3000, 5000, 5000, 3000, 5000, 3000, 3000, 5000, 5000, 5000, 3000, 3000, 3000, 3000, 3000, 3000, 3000, 3000, 3000, 3000, 3000, 3000, 5000, 3000, 3000, 3000, 5000, 3000, 5000, 3000, 3000, 5000, 3000, 3000, 3000, 3000, 3000, 3000, 3000, 3000, 5000, 3000, 3000, 3000, 5000, 3000, 3000, 3000, 3000, 3000, 5000, 5000, 3000, 3000, 3000, 5000, 3000, 3000, 5000, 3000, 3000, 5000, 3000, 3000, 3000, 3000, 3000, 3000, 3000, 3000, 3000, 3000, 3000, 3000, 5000, 3000, 3000, 3000, 3000, 3000, 3000, 3000, 3000, 5000, 3000, 3000, 3000, 5000, 3000, 3000, 3000, 3000, 3000, 3000, 3000, 5000, 3000, 3000, 3000, 5000, 5000, 3000, 3000, 3000, 5000, 3000, 3000, 3000, 3000, 3000, 5000, 3000, 3000, 5000, 3000, 3000, 3000, 3000, 5000, 3000, 3000, 5000, 3000, 3000, 3000, 3000, 3000, 5000, 3000, 3000, 3000, 3000, 3000, 3000, 3000, 3000, 3000, 5000, 3000, 3000, 3000, 3000, 3000, 3000, 3000, 3000, 5000, 3000, 3000, 5000, 3000, 3000, 3000, 3000, 3000, 3000, 3000, 3000, 3000, 5000, 3000, 3000, 3000, 5000, 3000, 3000, 3000, 3000, 3000, 3000, 3000, 3000, 3000, 3000, 5000, 3000, 3000, 3000, 3000, 3000, 3000, 3000, 3000, 3000, 3000, 3000, 3000, 3000, 3000, 3000, 3000, 3000, 3000, 5000, 5000, 5000, 3000, 3000, 3000, 3000, 5000, 5000, 3000, 3000, 5000, 3000, 5000, 3000, 3000, 3000, 3000, 3000, 3000, 3000, 3000, 3000, 3000, 3000, 3000, 3000, 5000, 3000, 3000, 3000, 3000, 3000, 3000, 5000, 3000, 3000, 3000, 3000, 3000, 5000, 3000, 3000, 5000, 3000, 3000, 5000, 3000, 3000, 5000, 3000, 3000, 3000, 3000, 5000, 3000, 3000, 3000, 3000, 3000, 3000, 3000, 3000, 3000, 5000, 5000, 3000, 3000, 3000, 5000, 3000, 5000, 3000, 5000, 3000, 3000, 3000, 3000, 3000, 3000, 3000, 5000, 5000, 3000, 3000, 3000, 3000, 3000, 5000, 3000, 3000, 3000, 3000, 3000, 3000, 5000, 3000, 5000, 3000, 3000, 3000, 3000, 3000, 3000, 3000, 3000, 3000, 5000, 3000, 5000, 3000, 3000, 3000, 3000, 3000, 5000, 3000, 5000, 3000, 3000, 3000, 3000, 3000, 3000, 3000, 3000, 3000, 3000, 3000, 5000, 3000, 3000, 3000, 3000, 3000, 3000, 5000, 3000, 3000, 5000, 5000, 3000, 5000, 3000, 3000, 3000, 5000, 3000, 3000, 3000, 3000, 5000, 3000, 3000, 3000, 3000, 3000, 5000, 5000, 3000, 5000, 3000, 3000, 3000, 5000, 3000, 3000, 5000, 3000, 3000, 5000, 3000, 3000, 3000, 3000, 3000, 3000, 3000, 3000, 3000, 3000, 3000, 3000, 3000, 5000, 3000, 3000, 3000, 3000, 3000, 5000, 3000, 3000, 3000, 5000, 3000, 3000, 5000, 5000, 5000, 3000, 3000, 3000, 3000, 3000, 3000, 5000, 3000, 3000, 3000, 3000, 3000, 3000, 5000, 3000, 5000, 3000, 3000, 3000, 3000, 3000, 3000, 5000, 3000, 3000, 3000, 3000, 3000, 3000, 3000, 3000, 3000, 3000, 3000, 3000, 3000, 3000, 3000, 3000, 3000, 3000, 3000, 3000, 5000, 3000, 3000, 3000, 3000, 5000, 3000, 3000, 3000, 3000, 3000, 3000, 3000, 3000, 3000, 3000, 3000, 5000, 3000, 3000, 3000, 3000, 5000, 5000, 3000, 3000, 3000, 3000, 3000, 3000, 5000, 5000, 3000, 3000, 3000, 3000, 3000, 3000, 3000, 5000, 3000, 3000, 3000, 3000, 3000, 5000, 3000, 5000, 3000, 3000, 5000, 5000, 3000, 3000, 3000, 5000, 3000, 3000, 5000, 3000, 3000, 3000, 3000, 3000, 5000, 3000, 3000, 3000, 3000, 5000, 3000, 3000, 3000, 3000, 3000, 3000, 3000, 3000, 3000, 3000, 5000, 3000, 5000, 3000, 3000, 3000, 3000, 3000, 5000, 3000, 3000, 3000, 3000, 3000, 3000, 3000, 3000, 3000, 3000, 3000, 3000, 5000, 3000, 5000, 3000, 3000, 5000, 3000, 3000, 3000, 3000, 3000, 3000, 5000, 3000, 3000, 3000, 3000, 3000, 3000, 3000, 5000, 5000, 5000, 3000, 3000, 3000, 3000, 3000, 5000, 3000, 3000, 3000, 3000, 3000, 3000, 3000, 3000, 3000, 3000, 3000, 3000, 3000, 3000, 3000, 3000, 3000, 3000, 3000, 5000, 3000, 5000, 3000, 5000, 3000, 3000, 3000, 3000, 5000, 3000, 3000, 3000, 3000, 3000, 3000, 3000, 3000, 3000, 3000, 3000, 5000, 3000, 3000, 3000, 3000, 3000, 3000, 5000, 3000, 5000, 3000, 3000, 3000, 3000, 5000, 3000, 3000, 3000, 5000, 3000, 3000, 3000, 3000, 3000, 3000, 3000, 3000, 5000, 3000, 5000, 3000, 5000, 3000, 3000, 3000, 3000, 3000, 3000, 3000, 3000, 3000, 3000, 5000, 3000, 3000, 5000, 3000, 5000, 3000, 3000, 3000, 3000, 3000, 5000, 5000, 3000, 3000, 3000, 3000, 3000, 5000, 3000, 5000, 3000, 5000, 5000, 3000, 3000, 3000, 3000, 3000, 3000, 3000, 5000, 3000, 3000, 3000, 3000, 5000, 3000, 3000, 3000, 3000, 3000, 3000, 3000, 3000, 3000, 3000, 5000, 3000, 3000, 3000, 3000, 5000, 3000, 3000, 3000, 3000, 3000, 3000, 3000, 5000, 3000, 3000, 3000, 3000, 3000, 3000, 3000, 3000, 3000, 3000, 3000, 3000, 3000, 3000, 3000, 3000, 3000, 3000, 5000, 5000, 3000, 3000, 3000, 5000, 3000, 3000, 3000, 3000, 3000, 3000, 5000, 5000, 3000, 3000, 3000, 3000, 3000, 3000, 3000, 3000, 3000, 5000, 3000, 3000, 3000, 3000, 5000, 3000, 5000, 3000, 3000, 3000, 3000, 3000, 5000, 3000, 3000, 5000, 3000, 3000, 3000, 3000, 3000, 3000, 3000, 5000, 5000, 5000, 3000, 3000, 3000, 3000, 3000, 3000, 3000, 5000, 3000, 3000, 3000, 5000, 3000, 5000, 3000, 3000, 3000, 3000, 3000, 3000, 3000, 3000, 3000, 3000, 3000, 3000, 3000, 3000, 3000, 5000, 3000, 3000, 3000, 3000, 3000, 5000, 3000, 3000, 3000, 3000, 3000, 5000, 3000, 3000, 5000, 3000, 3000, 3000, 3000, 3000, 3000, 5000, 3000, 3000, 5000, 3000, 3000, 3000, 3000, 5000, 5000, 3000, 3000, 3000, 3000, 3000, 3000, 3000, 5000, 5000, 3000, 3000, 3000, 3000, 5000, 3000, 3000, 3000, 3000, 5000, 5000, 3000, 3000, 5000, 3000, 3000, 5000, 3000, 3000, 3000, 5000, 3000, 5000, 5000, 3000, 3000, 3000, 3000, 3000, 3000, 3000, 3000, 3000, 3000, 3000, 3000, 3000, 3000, 3000, 3000, 3000, 5000, 5000, 3000, 5000, 3000, 5000, 3000, 3000, 5000, 5000, 3000, 5000, 3000, 3000, 3000, 3000, 3000, 5000, 3000, 5000, 3000, 3000, 5000, 5000, 5000, 3000, 5000, 3000, 5000, 5000, 3000, 3000, 3000, 3000, 3000, 3000, 3000, 5000, 3000, 3000, 3000, 3000, 3000, 5000, 3000, 3000, 3000, 3000, 5000, 3000, 3000, 3000, 3000, 3000, 3000, 3000, 3000, 3000, 5000, 3000, 3000, 3000, 5000, 3000, 3000, 3000, 3000, 5000, 3000, 3000, 3000, 3000, 3000, 5000, 3000, 3000, 3000, 3000, 3000, 3000, 3000, 3000, 3000, 3000, 3000, 3000, 5000, 5000, 5000, 3000, 3000, 3000, 3000, 3000, 3000, 3000, 3000, 5000, 3000, 3000, 3000, 3000, 3000, 3000, 3000, 3000, 3000, 3000, 3000, 5000, 5000, 3000, 3000, 3000, 5000, 5000, 3000, 3000, 3000, 3000, 3000, 3000, 3000, 5000, 3000, 3000, 3000, 3000, 3000, 3000, 3000, 3000, 3000, 5000, 3000, 5000, 3000, 3000, 3000, 5000, 5000, 5000, 3000, 3000, 5000, 3000, 3000, 3000, 3000, 3000, 3000, 3000, 3000, 3000, 3000, 5000, 3000, 3000, 3000, 3000, 3000, 5000, 3000, 3000, 3000, 3000, 3000, 3000, 3000, 3000, 5000, 3000, 3000, 3000, 3000, 3000, 3000, 3000, 3000, 3000, 3000, 3000, 3000, 3000, 3000, 5000, 3000, 3000, 5000, 3000, 3000, 3000, 3000, 3000, 3000, 3000, 5000, 5000, 3000, 3000, 5000, 3000, 5000, 3000, 3000, 3000, 3000, 3000, 5000, 3000, 3000, 3000, 5000, 3000, 3000, 3000, 3000, 3000, 3000, 3000, 3000, 3000, 3000, 3000, 3000, 3000, 3000, 5000, 3000, 3000, 3000, 3000, 3000, 3000, 3000, 3000, 5000, 3000, 3000, 3000, 3000, 5000, 3000, 3000, 5000, 3000, 3000, 3000, 5000, 5000, 3000, 3000, 3000, 3000, 3000, 5000, 3000, 3000, 3000, 3000, 3000, 3000, 3000, 3000, 3000, 3000, 5000, 3000, 3000, 3000, 5000, 5000, 5000, 3000, 3000, 5000, 3000, 3000, 5000, 3000, 5000, 3000, 3000, 3000, 3000, 3000, 3000, 3000, 3000, 3000, 3000, 5000, 3000, 3000, 5000, 3000, 3000, 5000, 3000, 3000, 5000, 3000, 3000, 5000, 3000, 3000, 3000, 3000, 5000, 3000, 3000, 5000, 3000, 3000, 3000, 5000, 3000, 3000, 3000, 3000, 3000, 3000, 3000, 3000, 3000, 5000, 3000, 3000, 3000, 3000, 5000, 3000, 5000, 3000, 3000, 3000, 3000, 3000, 3000, 3000, 3000, 3000, 5000, 3000, 3000, 3000, 3000, 3000, 3000, 3000, 3000, 3000, 3000, 3000, 5000, 3000, 3000, 3000, 3000, 3000, 3000, 3000, 5000, 3000, 5000, 5000, 3000, 5000, 3000, 3000, 3000, 5000, 3000, 3000, 3000, 5000, 5000, 3000, 3000, 3000, 3000, 3000, 3000, 3000, 3000, 3000, 3000, 3000, 3000, 3000, 3000, 3000, 3000, 3000, 3000, 3000, 3000, 5000, 3000, 3000, 3000, 3000, 3000, 3000, 3000, 5000, 3000, 3000, 3000, 3000, 3000, 3000, 3000, 5000, 5000, 3000, 5000, 5000, 3000, 3000, 3000, 3000, 3000, 3000, 5000, 3000, 3000, 3000, 3000, 3000, 3000, 3000, 3000, 3000, 5000, 5000, 5000, 3000, 3000, 5000, 3000, 3000, 3000, 3000, 5000, 3000, 3000, 3000, 3000, 3000, 3000, 3000, 3000, 5000, 3000, 3000, 3000, 5000, 5000, 3000, 3000, 5000, 3000, 3000, 5000, 3000, 3000, 5000, 5000, 3000, 5000, 3000, 3000, 3000, 3000, 5000, 3000, 5000, 3000, 3000, 3000, 3000, 5000, 3000, 3000, 5000, 5000, 3000, 3000, 3000, 3000, 3000, 3000, 3000, 5000, 3000, 5000, 3000, 3000, 3000, 3000, 3000, 3000, 5000, 3000, 3000, 3000, 5000, 5000, 3000, 5000, 3000, 3000, 3000, 3000, 5000, 5000, 3000, 3000, 5000, 3000, 3000, 3000, 3000, 3000, 3000, 3000, 3000, 3000, 3000, 3000, 3000, 3000, 3000, 3000, 3000, 3000, 3000, 3000, 3000, 5000, 3000, 3000, 5000, 3000, 3000, 3000, 3000, 3000, 3000, 3000, 3000, 3000, 5000, 3000, 3000, 3000, 5000, 5000, 3000, 3000, 3000, 5000, 3000, 3000, 3000, 3000, 5000, 3000, 3000, 5000, 3000, 3000, 3000, 3000, 3000, 3000, 3000, 3000, 5000, 3000, 3000, 3000, 5000, 5000, 3000, 3000, 3000, 3000, 3000, 3000, 3000, 3000, 3000, 5000, 5000, 5000, 3000, 3000, 5000, 3000, 5000, 3000, 3000, 3000, 3000, 3000, 5000, 5000, 3000, 3000, 3000, 3000, 3000, 3000, 3000, 3000, 3000, 3000, 3000, 5000, 3000, 5000, 3000, 3000, 5000, 3000, 5000, 3000, 5000, 3000, 3000, 3000, 3000, 3000, 3000, 3000, 5000, 3000, 3000, 3000, 3000, 3000, 3000, 3000, 3000, 3000, 3000, 5000, 3000, 5000, 3000, 3000, 5000, 3000, 3000, 3000, 3000, 5000, 3000, 3000, 3000, 3000, 3000, 3000, 3000, 3000, 5000, 3000, 5000, 5000, 3000, 5000, 3000, 3000, 3000, 3000, 3000, 3000, 3000, 3000, 3000, 3000, 3000, 3000, 3000, 3000, 3000, 3000, 3000, 3000, 3000, 5000, 3000, 3000, 3000, 3000, 3000, 3000, 3000, 3000, 5000, 3000, 5000, 3000, 3000, 3000, 3000, 3000, 3000, 3000, 3000, 3000, 3000, 5000, 3000, 3000, 3000, 3000, 3000, 3000, 3000, 3000, 3000, 3000, 5000, 3000, 3000, 5000, 3000, 3000, 3000, 3000, 3000, 5000, 5000, 3000, 3000, 3000, 5000, 5000, 3000, 3000, 3000, 3000, 3000, 3000, 3000, 3000, 5000, 3000, 3000, 3000, 3000, 3000, 3000, 3000, 3000, 3000, 3000, 3000, 3000, 5000, 5000, 3000, 3000, 3000, 3000, 3000, 5000, 5000, 3000, 3000, 3000, 3000, 3000, 3000, 3000, 3000, 3000, 3000, 3000, 3000, 5000, 3000, 3000, 3000, 3000, 3000, 3000, 3000, 3000, 3000, 3000, 3000, 3000, 5000, 5000, 3000, 3000, 3000, 3000, 3000, 5000, 3000, 5000, 3000, 5000, 3000, 3000, 5000, 3000, 3000, 3000, 5000, 5000, 3000, 3000, 5000, 3000, 3000, 5000, 3000, 3000, 3000, 5000, 3000, 3000, 3000, 5000, 5000, 5000, 5000, 5000, 3000, 5000, 3000, 3000, 3000, 5000, 3000, 5000, 5000, 3000, 3000, 5000, 5000, 3000, 5000, 3000, 3000, 3000, 5000, 5000, 3000, 5000, 5000, 3000, 5000, 3000, 3000, 5000, 3000, 5000, 3000, 5000, 5000, 5000, 3000, 5000, 5000, 5000, 5000, 3000, 3000, 5000, 3000, 3000, 5000, 3000, 5000, 3000, 3000, 5000, 3000, 5000, 3000, 5000, 5000, 5000, 3000, 3000, 5000, 3000, 5000, 3000, 5000, 5000, 5000, 5000, 5000, 5000, 3000, 5000, 3000, 5000, 3000, 5000, 3000, 5000, 5000, 3000, 5000, 3000, 5000, 5000, 5000, 3000, 5000, 3000, 5000, 3000, 5000, 5000, 3000, 5000, 5000, 3000, 5000, 5000, 3000, 3000, 5000, 5000, 3000, 3000, 5000, 5000, 3000, 3000, 5000, 3000, 3000, 5000, 5000, 5000, 5000, 5000, 3000, 5000, 5000, 3000, 3000, 5000, 5000, 5000, 5000, 3000, 3000, 3000, 3000, 5000, 3000, 5000, 5000, 5000, 3000, 5000, 5000, 5000, 5000, 3000, 3000, 5000, 5000, 3000, 5000, 3000, 3000, 3000, 3000, 3000, 5000, 5000, 5000, 3000, 5000, 5000, 3000, 5000, 3000, 3000, 5000, 5000, 5000, 3000, 3000, 3000, 5000, 5000, 5000, 5000, 5000, 3000, 3000, 3000, 5000, 5000, 5000, 5000, 5000, 5000, 5000, 5000, 3000, 3000, 5000, 5000, 5000, 3000, 5000, 3000, 5000, 3000, 5000, 5000, 3000, 5000, 5000, 5000, 5000, 5000, 5000, 5000, 5000, 3000, 5000, 3000, 5000, 5000, 5000, 5000, 5000, 3000, 5000, 5000, 3000, 5000, 5000, 5000, 3000, 5000, 5000, 5000, 3000, 5000, 5000, 3000, 5000, 5000, 5000, 5000, 5000, 5000, 5000, 3000, 3000, 3000, 3000, 5000, 5000, 5000, 5000, 3000, 5000, 5000, 5000, 3000, 5000, 5000, 3000, 3000, 5000, 3000, 3000, 3000, 5000, 3000, 5000, 3000, 3000, 5000, 5000, 3000, 5000, 5000, 5000, 3000, 3000, 3000, 3000, 5000, 3000, 3000, 3000, 3000, 5000, 5000, 5000, 5000, 5000, 3000, 5000, 5000, 5000, 5000, 5000, 5000, 5000, 3000, 5000, 5000, 5000, 3000, 5000, 5000, 3000, 3000, 3000, 3000, 5000, 3000, 5000, 3000, 5000, 3000, 5000, 3000, 5000, 3000, 5000, 3000, 5000, 5000, 3000, 3000, 5000, 5000, 3000, 3000, 3000, 5000, 5000, 5000, 3000, 5000, 5000, 3000, 5000, 5000, 5000, 3000, 5000, 3000, 3000, 5000, 5000, 3000, 3000, 5000, 5000, 3000, 3000, 5000, 5000, 5000, 5000, 5000, 5000, 3000, 3000, 3000, 3000, 3000, 3000, 5000, 5000, 3000, 5000, 5000, 5000, 3000, 5000, 5000, 3000, 3000, 3000, 5000, 3000, 5000, 5000, 5000, 5000, 5000, 5000, 5000, 3000, 5000, 5000, 3000, 5000, 5000, 3000, 5000, 5000, 3000, 5000, 5000, 5000, 5000, 5000, 3000, 5000, 5000, 3000, 5000, 5000, 3000, 5000, 3000, 5000, 3000, 5000, 3000, 3000, 5000, 3000, 5000, 5000, 3000, 5000, 5000, 3000, 5000, 5000, 5000, 5000, 3000, 3000, 5000, 3000, 5000, 3000, 5000, 3000, 3000, 5000, 3000, 3000, 3000, 5000, 3000, 5000, 5000, 3000, 3000, 3000, 5000, 3000, 5000, 5000, 3000, 5000, 3000, 5000, 3000, 3000, 3000, 5000, 3000, 5000, 5000, 5000, 5000, 5000, 3000, 5000, 5000, 5000, 3000, 5000, 3000, 3000, 3000, 3000, 3000, 3000, 3000, 3000, 5000, 5000, 5000, 3000, 3000, 5000, 3000, 3000, 5000, 3000, 3000, 5000, 3000, 5000, 5000, 5000, 3000, 3000, 5000, 5000, 3000, 3000, 5000, 5000, 3000, 5000, 5000, 3000, 5000, 3000, 3000, 3000, 5000, 5000, 5000, 5000, 3000, 5000, 5000, 5000, 3000, 5000, 3000, 5000, 5000, 3000, 5000, 5000, 5000, 3000, 3000, 5000, 5000, 5000, 3000, 5000, 3000, 5000, 5000, 5000, 5000, 3000, 5000, 5000, 3000, 5000, 5000, 5000, 5000, 3000, 3000, 3000, 5000, 5000, 3000, 5000, 5000, 5000, 5000, 5000, 3000, 5000, 5000, 3000, 3000, 5000, 5000, 5000, 5000, 3000, 5000, 3000, 5000, 5000, 5000, 3000, 5000, 5000, 3000, 3000, 5000, 5000, 5000, 5000, 3000, 3000, 5000, 5000, 5000, 3000, 5000, 5000, 3000, 5000, 5000, 5000, 3000, 5000, 5000, 5000, 5000, 3000, 3000, 3000, 5000, 3000, 3000, 3000, 3000, 3000, 5000, 3000, 3000, 3000, 5000, 5000, 5000, 5000, 3000, 5000, 5000, 3000, 5000, 5000, 5000, 5000, 3000, 5000, 5000, 5000, 3000, 5000, 5000, 5000, 5000, 3000, 5000, 5000, 5000, 5000, 5000, 5000, 5000, 3000, 5000, 5000, 5000, 5000, 5000, 3000, 5000, 5000, 3000, 5000, 3000, 3000, 5000, 5000, 5000, 3000, 3000, 5000, 5000, 5000, 5000, 5000, 5000, 5000, 3000, 5000, 5000, 3000, 5000, 5000, 5000, 5000, 5000, 3000, 5000, 5000, 3000, 3000, 3000, 3000, 5000, 5000, 3000, 3000, 5000, 3000, 5000, 5000, 3000, 3000, 3000, 5000, 5000, 5000, 5000, 3000, 5000, 3000, 5000, 5000, 3000, 3000, 3000, 5000, 5000, 5000, 5000, 5000, 5000, 5000, 5000, 3000, 5000, 3000, 3000, 5000, 5000, 5000, 3000, 3000, 3000, 5000, 5000, 3000, 3000, 5000, 5000, 3000, 3000, 5000, 5000, 5000, 3000, 3000, 3000, 3000, 3000, 5000, 5000, 5000, 3000, 5000, 3000, 3000, 5000, 5000, 3000, 3000, 5000, 5000, 3000, 5000, 5000, 3000, 3000, 5000, 5000, 5000, 5000, 3000, 5000, 3000, 3000, 5000, 3000, 5000, 3000, 3000, 3000, 5000, 5000, 5000, 3000, 3000, 5000, 5000, 5000, 3000, 5000, 5000, 5000, 5000, 3000, 5000, 5000, 3000, 5000, 3000, 3000, 3000, 3000, 5000, 3000, 5000, 5000, 5000, 5000, 3000, 5000, 3000, 5000, 5000, 5000, 5000, 5000, 3000, 5000, 5000, 5000, 5000, 3000, 3000, 3000, 3000, 3000, 5000, 5000, 5000, 5000, 5000, 3000, 5000, 5000, 3000, 5000, 5000, 5000, 3000, 3000, 5000, 5000, 5000, 5000, 5000, 5000, 3000, 5000, 5000, 5000, 5000, 5000, 5000, 5000, 3000, 5000, 5000, 3000, 3000, 3000, 5000, 5000, 5000, 3000, 3000, 5000, 5000, 3000, 3000, 5000, 3000, 3000, 5000, 5000, 3000, 3000, 5000, 3000, 3000, 5000, 5000, 3000, 5000, 5000, 3000, 5000, 5000, 3000, 5000, 3000, 5000, 5000, 5000, 3000, 3000, 5000, 5000, 3000, 3000, 5000, 3000, 5000, 5000, 5000, 5000, 5000, 5000, 3000, 5000, 3000, 5000, 3000, 5000, 5000, 5000, 5000, 3000, 3000, 3000, 5000, 5000, 5000, 5000, 5000, 3000, 5000, 5000, 5000, 5000, 5000, 3000, 3000, 5000, 5000, 5000, 3000, 5000, 5000, 5000, 5000, 5000, 5000, 3000, 5000, 5000, 3000, 3000, 3000, 3000, 3000, 5000, 5000, 3000, 5000, 5000, 5000, 5000, 5000, 5000, 3000, 3000, 3000, 5000, 3000, 5000, 5000, 3000, 3000, 5000, 3000, 5000, 3000, 3000, 3000, 3000, 3000, 3000, 3000, 5000, 3000, 3000, 5000, 5000, 3000, 5000, 3000, 3000, 3000, 5000, 5000, 3000, 5000, 5000, 5000, 5000, 5000, 3000, 3000, 5000, 5000, 3000, 3000, 3000, 5000, 3000, 5000, 3000, 5000, 3000, 3000, 5000, 5000, 5000, 3000, 5000, 3000, 3000, 3000, 5000, 3000, 3000, 3000, 5000, 5000, 3000, 5000, 3000, 5000, 5000, 5000, 3000, 5000, 3000, 5000, 3000, 5000, 5000, 5000, 3000, 3000, 3000, 5000, 3000, 5000, 3000, 3000, 3000, 3000, 3000, 3000, 5000, 3000, 3000, 3000, 5000, 5000, 3000, 3000, 3000, 3000, 5000, 3000, 5000, 3000, 3000, 3000, 3000, 5000, 3000, 3000, 5000, 5000, 5000, 3000, 3000, 3000, 5000, 3000, 3000, 5000, 3000, 5000, 5000, 5000, 3000, 3000, 5000, 5000, 5000, 3000, 5000, 5000, 5000, 3000, 5000, 5000, 5000, 5000, 3000, 5000, 3000, 3000, 5000, 5000, 5000, 3000, 5000, 3000, 3000, 3000, 3000, 3000, 5000, 3000, 5000, 3000, 5000, 3000, 3000, 5000, 5000, 3000, 3000, 3000, 3000, 3000, 3000, 5000, 5000, 3000, 5000, 5000, 5000, 3000, 5000, 3000, 3000, 5000, 5000, 3000, 3000, 5000, 3000, 3000, 3000, 5000, 3000, 3000, 3000, 3000, 3000, 3000, 5000, 5000, 5000, 3000, 5000, 5000, 3000, 5000, 3000, 3000, 3000, 5000, 5000, 5000, 5000, 5000, 3000, 3000, 3000, 3000, 3000, 3000, 3000, 5000, 3000, 3000, 5000, 5000, 5000, 5000, 5000, 3000, 3000, 3000, 3000, 5000, 3000, 3000, 3000, 5000, 3000, 3000, 3000, 3000, 3000, 5000, 3000, 3000, 5000, 3000, 5000, 3000, 3000, 3000, 5000, 3000, 5000, 3000, 3000, 5000, 5000, 5000, 5000, 5000, 3000, 5000, 3000, 3000, 3000, 5000, 5000, 5000, 3000, 5000, 5000, 5000, 5000, 5000, 3000, 3000, 5000, 3000, 5000, 5000, 5000, 3000, 5000, 3000, 5000, 3000, 5000, 3000, 5000, 3000, 3000, 3000, 3000, 3000, 3000, 3000, 5000, 3000, 3000, 3000, 5000, 5000, 3000, 5000, 5000, 3000, 3000, 3000, 5000, 5000, 3000, 5000, 3000, 3000, 3000, 3000, 5000, 3000, 3000, 5000, 5000, 3000, 5000, 3000, 5000, 3000, 3000, 3000, 3000, 3000, 5000, 3000, 3000, 3000, 5000, 5000, 3000, 5000, 5000, 5000, 3000, 5000, 3000, 5000, 5000, 3000, 3000, 5000, 5000, 3000, 3000, 5000, 3000, 5000, 3000, 3000, 3000, 3000, 3000, 3000, 5000, 3000, 3000, 3000, 3000, 3000, 3000, 5000, 3000, 5000, 5000, 5000, 5000, 3000, 3000, 5000, 3000, 3000, 5000, 5000, 5000, 5000, 3000, 3000, 3000, 5000, 3000, 3000, 3000, 3000, 3000, 5000, 5000, 5000, 5000, 3000, 5000, 3000, 5000, 5000, 5000, 3000, 3000, 5000, 3000, 5000, 3000, 5000, 3000, 3000, 3000, 3000, 3000, 3000, 5000, 3000, 3000, 3000, 3000, 5000, 3000, 3000, 3000, 5000, 3000, 5000, 3000, 5000, 5000, 3000, 3000, 3000, 3000, 3000, 3000, 5000, 3000, 3000, 3000, 5000, 5000, 3000, 3000, 5000, 3000, 3000, 3000, 5000, 3000, 5000, 5000, 3000, 5000, 5000, 3000, 3000, 3000, 5000, 5000, 5000, 3000, 3000, 3000, 5000, 3000, 3000, 3000, 5000, 3000, 5000, 3000, 3000, 5000, 3000, 3000, 5000, 3000, 5000, 5000, 3000, 3000, 5000, 3000, 5000, 5000, 3000, 5000, 3000, 5000, 5000, 3000, 5000, 5000, 3000, 5000, 5000, 3000, 5000, 3000, 5000, 3000, 3000, 3000, 5000, 5000, 3000, 3000, 5000, 5000, 5000, 3000, 3000, 3000, 3000, 3000, 3000, 5000, 5000, 3000, 3000, 5000, 3000, 5000, 5000, 5000, 3000, 5000, 5000, 5000, 5000, 5000, 5000, 5000, 5000, 3000, 3000, 3000, 3000, 3000, 3000, 5000, 3000, 3000, 3000, 3000, 3000, 3000, 5000, 3000, 5000, 3000, 3000, 3000, 3000, 3000, 5000, 5000, 5000, 3000, 5000, 3000, 3000, 5000, 5000, 5000, 3000, 5000, 3000, 5000, 3000, 3000, 3000, 5000, 5000, 3000, 5000, 3000, 5000, 3000, 3000, 3000, 3000, 5000, 3000, 3000, 3000, 3000, 3000, 3000, 5000, 3000, 3000, 3000, 3000, 5000, 5000, 3000, 3000, 3000, 3000, 5000, 3000, 5000, 5000, 3000, 3000, 3000, 3000, 3000, 3000, 5000, 3000, 3000, 5000, 5000, 3000, 3000, 5000, 3000, 5000, 5000, 5000, 5000, 3000, 3000, 5000, 5000, 5000, 3000, 5000, 5000, 5000, 3000, 5000, 5000, 3000, 5000, 3000, 3000, 5000, 3000, 3000, 5000, 3000, 5000, 3000, 5000, 5000, 5000, 3000, 3000, 5000, 3000, 3000, 3000, 5000, 5000, 3000, 5000, 5000, 5000, 5000, 5000, 3000, 5000, 5000, 5000, 5000, 3000, 5000, 3000, 3000, 5000, 5000, 5000, 3000, 3000, 3000, 5000, 5000, 5000, 5000, 3000, 3000, 3000, 5000, 3000, 3000, 5000, 5000, 3000, 3000, 3000, 5000, 5000, 3000, 5000, 3000, 3000, 3000, 3000, 3000, 3000, 5000, 5000, 5000, 3000, 5000, 5000, 5000, 5000, 3000, 3000, 5000, 3000, 3000, 5000, 3000, 5000, 3000, 5000, 5000, 5000, 3000, 3000, 3000, 5000, 3000, 5000, 5000, 3000, 3000, 5000, 3000, 5000, 3000, 5000, 3000, 5000, 5000, 5000, 5000, 5000, 3000, 5000, 5000, 3000, 5000, 3000, 3000, 5000, 5000, 3000, 5000, 3000, 5000, 5000, 3000, 3000, 5000, 3000, 3000, 5000, 3000, 5000, 3000, 3000, 5000, 5000, 3000, 3000, 5000, 3000, 5000, 3000, 5000, 3000, 5000, 3000, 3000, 5000, 3000, 5000, 3000, 5000, 3000, 5000, 3000, 5000, 3000, 5000, 5000, 3000, 3000, 3000, 5000, 3000, 5000, 3000, 5000, 5000, 3000, 3000, 5000, 3000, 3000, 3000, 5000, 3000, 3000, 3000, 5000, 3000, 5000, 3000, 5000, 3000, 5000, 5000, 5000, 5000, 5000, 3000, 5000, 5000, 3000, 3000, 5000, 3000, 3000, 5000, 5000, 5000, 3000, 3000, 5000, 5000, 3000, 3000, 3000, 3000, 5000, 5000, 3000, 3000, 3000, 3000, 3000, 3000, 3000, 5000, 3000, 5000, 3000, 3000, 3000, 3000, 5000, 3000, 5000, 3000, 3000, 3000, 3000, 3000, 5000, 3000, 3000, 3000, 3000, 3000, 5000, 5000, 3000, 5000, 5000, 3000, 3000, 5000, 3000, 3000, 3000, 3000, 5000, 5000, 3000, 3000, 3000, 3000, 5000, 5000, 3000, 5000, 3000, 3000, 3000, 3000, 5000, 3000, 3000, 5000, 5000, 3000, 3000, 5000, 3000, 3000, 3000, 5000, 3000, 5000, 5000, 5000, 3000, 3000, 3000, 3000, 3000, 5000, 5000, 5000, 5000, 5000, 3000, 5000, 5000, 5000, 5000, 3000, 3000, 5000, 3000, 3000, 3000, 3000, 3000, 3000, 3000, 5000, 5000, 5000, 5000, 5000, 5000, 5000, 3000, 3000, 3000, 5000, 3000, 5000, 3000, 5000, 3000, 3000, 3000, 3000, 5000, 5000, 3000, 3000, 3000, 5000, 5000, 3000, 3000, 3000, 3000, 3000, 3000, 5000, 3000, 3000, 5000, 3000, 3000, 3000, 5000, 5000, 3000, 3000, 5000, 5000, 3000, 5000, 3000, 3000, 3000, 3000, 5000, 5000, 5000, 5000, 5000, 3000, 5000, 3000, 3000, 3000, 5000, 3000, 3000, 5000, 3000, 5000, 5000, 3000, 3000, 3000, 3000, 3000, 5000, 3000, 3000, 3000, 5000, 3000, 5000, 5000, 5000, 3000, 5000, 3000, 3000, 5000, 3000, 3000, 5000, 3000, 5000, 5000, 5000, 3000, 5000, 3000, 5000, 3000, 5000, 5000, 5000, 3000, 3000, 3000, 5000, 5000, 3000, 5000, 5000, 5000, 3000, 3000, 3000, 3000, 3000, 3000, 5000, 5000, 3000, 3000, 5000, 5000, 3000, 3000, 3000, 5000, 3000, 3000, 3000, 3000, 5000, 3000, 3000, 5000, 5000, 3000, 5000, 3000, 5000, 5000, 5000, 5000, 5000, 5000, 5000, 5000, 3000, 3000, 3000, 5000, 5000, 3000, 3000, 5000, 3000, 3000, 3000, 3000, 5000, 3000, 3000, 5000, 5000, 3000, 5000, 3000, 3000, 3000, 3000, 3000, 3000, 3000, 3000, 3000, 3000, 3000, 3000, 3000, 5000, 3000, 3000, 3000, 5000, 3000, 3000, 5000, 5000, 3000, 3000, 3000, 3000, 5000, 5000, 3000, 5000, 3000, 5000, 5000, 3000, 5000, 5000, 3000, 5000, 3000, 3000, 3000, 5000, 5000, 5000, 3000, 5000, 5000, 3000, 5000, 5000, 3000, 3000, 3000, 5000, 3000, 3000, 5000, 5000, 5000, 3000, 3000, 5000, 3000, 5000, 3000, 3000, 3000, 3000, 3000, 3000, 3000, 3000, 5000, 5000, 5000, 3000, 5000, 5000, 3000, 5000, 3000, 3000, 3000, 5000, 3000, 3000, 3000, 3000, 3000, 3000, 5000, 5000, 5000, 3000, 3000, 3000, 5000, 5000, 3000, 3000, 3000, 5000, 3000, 5000, 5000, 3000, 3000, 3000, 3000, 3000, 3000, 3000, 3000, 3000, 3000, 5000, 5000, 3000, 5000, 5000, 3000, 5000, 3000, 5000, 3000, 3000, 5000, 3000, 3000, 3000, 3000, 5000, 5000, 3000, 3000, 3000, 3000, 5000, 3000, 3000, 5000, 3000, 3000, 3000, 5000, 3000, 5000, 3000, 3000, 3000, 3000, 5000, 3000, 3000, 3000, 3000, 5000, 3000, 3000, 5000, 5000, 3000, 5000, 5000, 5000, 3000, 5000, 3000, 3000, 5000, 3000, 5000, 3000, 5000, 3000, 3000, 3000, 5000, 5000, 5000, 3000, 3000, 3000, 5000, 3000, 3000, 3000, 5000, 3000, 5000, 3000, 3000, 3000, 3000, 3000, 3000, 3000, 3000, 5000, 5000, 5000, 5000, 5000, 5000, 3000, 5000, 3000, 3000, 5000, 3000, 5000, 3000, 3000, 3000, 3000, 5000, 5000, 5000, 3000, 3000, 3000, 3000, 3000, 3000, 3000, 3000, 5000, 3000, 3000, 5000, 5000, 5000, 5000, 3000, 3000, 5000, 3000, 5000, 3000, 3000, 5000, 5000, 3000, 5000, 5000, 5000, 5000, 3000, 5000, 5000, 3000, 3000, 3000, 3000, 3000, 3000, 3000, 3000, 3000, 3000, 5000, 5000, 5000, 5000, 3000, 3000, 5000, 3000, 5000, 5000, 3000, 3000, 5000, 3000, 5000, 3000, 5000, 3000, 3000, 3000, 5000, 3000, 3000, 3000, 3000, 3000, 3000, 5000, 3000, 3000, 5000, 5000, 5000, 5000, 5000, 3000, 3000, 3000, 3000, 3000, 3000, 3000, 5000, 3000, 3000, 5000, 5000, 3000, 3000, 5000, 3000, 3000, 5000, 3000, 5000, 5000, 3000, 3000, 5000, 3000, 5000, 5000, 3000, 3000, 3000, 3000, 5000, 3000, 3000, 3000, 5000, 3000, 5000, 3000, 3000, 3000, 3000, 5000, 5000, 3000, 5000, 3000, 3000, 5000, 3000, 3000, 5000, 3000, 3000, 3000, 5000, 3000, 5000, 5000, 5000, 5000, 3000, 3000, 3000, 3000, 3000, 3000, 5000, 3000, 5000, 5000, 3000, 5000, 5000, 3000, 3000, 5000, 5000, 5000, 3000, 3000, 3000, 5000, 3000, 3000, 3000, 3000, 3000, 3000, 3000, 5000, 5000, 3000, 5000, 5000, 3000, 3000, 3000, 5000, 3000, 3000, 5000, 5000, 3000, 3000, 5000, 5000, 3000, 3000, 5000, 5000, 3000, 3000, 3000, 3000, 5000, 5000, 5000, 3000, 5000, 3000, 3000, 5000, 5000, 5000, 3000, 3000, 3000, 3000, 5000, 3000, 3000, 5000, 5000, 5000, 3000, 5000, 5000, 3000, 3000, 3000, 3000, 5000, 3000, 3000, 3000, 3000, 3000, 5000, 3000, 3000, 5000, 3000, 5000, 3000, 3000, 3000, 5000, 5000, 3000, 5000, 3000, 5000, 3000, 3000, 3000, 3000, 5000, 3000, 3000, 3000, 3000, 3000, 3000, 5000, 3000, 5000, 5000, 5000, 3000, 3000, 5000, 3000, 3000, 5000, 3000, 3000, 3000, 3000, 5000, 3000, 5000, 3000, 5000, 3000, 5000, 3000, 3000, 5000, 5000, 3000, 5000, 3000, 3000, 3000, 3000, 5000, 5000, 3000, 3000, 5000, 3000, 5000, 5000, 3000, 3000, 3000, 3000, 3000, 3000, 3000, 3000, 3000, 5000, 5000, 3000, 3000, 3000, 5000, 5000, 3000, 5000, 3000, 3000, 3000, 3000, 3000, 5000, 3000, 3000, 5000, 3000, 5000, 3000, 5000, 5000, 3000, 3000, 5000, 3000, 3000, 3000, 3000, 3000, 3000, 3000, 3000, 5000, 3000, 3000, 5000, 3000, 5000, 5000, 3000, 3000, 5000, 5000, 3000, 3000, 5000, 3000, 3000, 5000, 3000, 5000, 3000, 3000, 5000, 3000, 3000, 3000, 3000, 3000, 3000, 3000, 3000, 3000, 5000, 3000, 5000, 3000, 3000, 3000, 3000, 3000, 5000, 5000, 3000, 3000, 3000, 3000, 5000, 3000, 5000, 3000, 5000, 5000, 3000, 3000, 3000, 3000, 5000, 3000, 5000, 5000, 5000, 3000, 5000, 5000, 5000, 3000, 5000, 3000, 3000, 3000, 5000, 5000]\n"
          ]
        }
      ],
      "source": [
        "print(Ins)"
      ]
    },
    {
      "cell_type": "code",
      "execution_count": 20,
      "id": "0d86a744",
      "metadata": {
        "id": "0d86a744"
      },
      "outputs": [],
      "source": [
        "Ins=[]\n",
        "for x in df['Age']:\n",
        "    if (20<=x<=27):\n",
        "        if 'Female' in(df['Gender']):\n",
        "            i=3000+(3000*10/100)\n",
        "            Ins.append(i)\n",
        "        else:\n",
        "             Ins.append(3000)\n",
        "    elif 27<x<=35:\n",
        "        if 'Female' in(df['Gender']):\n",
        "            i=5000+(5000*12/100)\n",
        "            Ins.append(i)\n",
        "        else:\n",
        "            Ins.append(5000)\n",
        "    elif x>35:\n",
        "        if 'Female' in(df['Gender']):\n",
        "            i=9000+(9000*15/100)\n",
        "            Ins.append(i)\n",
        "        else:\n",
        "            Ins.append(9000)\n",
        "    "
      ]
    },
    {
      "cell_type": "code",
      "execution_count": 21,
      "id": "2c9bce41",
      "metadata": {
        "id": "2c9bce41",
        "outputId": "e9b3bf8c-15e5-45a4-a820-20f2642e5ff8",
        "colab": {
          "base_uri": "https://localhost:8080/"
        }
      },
      "outputs": [
        {
          "output_type": "execute_result",
          "data": {
            "text/plain": [
              "array([5000, 9000, 3000])"
            ]
          },
          "metadata": {},
          "execution_count": 21
        }
      ],
      "source": [
        "df['InsuranceAmaount']=Ins\n",
        "df['InsuranceAmaount'].unique()\n"
      ]
    },
    {
      "cell_type": "code",
      "execution_count": 22,
      "id": "3f175ad1",
      "metadata": {
        "id": "3f175ad1",
        "outputId": "446098e7-5412-494b-ee21-c5b1db5dada9",
        "colab": {
          "base_uri": "https://localhost:8080/",
          "height": 424
        }
      },
      "outputs": [
        {
          "output_type": "execute_result",
          "data": {
            "text/plain": [
              "      Education  JoiningYear       City  PaymentTier  Age  Gender EverBenched  \\\n",
              "0     Bachelors         2017  Bangalore            3   34    Male          No   \n",
              "1     Bachelors         2013       Pune            1   28  Female          No   \n",
              "2     Bachelors         2014  New Delhi            3   38  Female          No   \n",
              "3       Masters         2016  Bangalore            3   27    Male          No   \n",
              "4       Masters         2017       Pune            3   24    Male         Yes   \n",
              "...         ...          ...        ...          ...  ...     ...         ...   \n",
              "4648  Bachelors         2013  Bangalore            3   26  Female          No   \n",
              "4649    Masters         2013       Pune            2   37    Male          No   \n",
              "4650    Masters         2018  New Delhi            3   27    Male          No   \n",
              "4651  Bachelors         2012  Bangalore            3   30    Male         Yes   \n",
              "4652  Bachelors         2015  Bangalore            3   33    Male         Yes   \n",
              "\n",
              "      ExperienceInCurrentDomain  LeaveOrNot  NewExperience ExperienceCategory  \\\n",
              "0                             0           0              1             Junior   \n",
              "1                             3           1              4             Junior   \n",
              "2                             2           0              3             Junior   \n",
              "3                             5           1              6             Senior   \n",
              "4                             2           1              3             Junior   \n",
              "...                         ...         ...            ...                ...   \n",
              "4648                          4           0              5             Senior   \n",
              "4649                          2           1              3             Junior   \n",
              "4650                          5           1              6             Senior   \n",
              "4651                          2           0              3             Junior   \n",
              "4652                          4           0              5             Senior   \n",
              "\n",
              "      InsuranceAmaount  \n",
              "0                 5000  \n",
              "1                 5000  \n",
              "2                 9000  \n",
              "3                 3000  \n",
              "4                 3000  \n",
              "...                ...  \n",
              "4648              3000  \n",
              "4649              9000  \n",
              "4650              3000  \n",
              "4651              5000  \n",
              "4652              5000  \n",
              "\n",
              "[4653 rows x 12 columns]"
            ],
            "text/html": [
              "\n",
              "  <div id=\"df-6fbd6c2f-9db3-4033-9ffb-24e53553c254\">\n",
              "    <div class=\"colab-df-container\">\n",
              "      <div>\n",
              "<style scoped>\n",
              "    .dataframe tbody tr th:only-of-type {\n",
              "        vertical-align: middle;\n",
              "    }\n",
              "\n",
              "    .dataframe tbody tr th {\n",
              "        vertical-align: top;\n",
              "    }\n",
              "\n",
              "    .dataframe thead th {\n",
              "        text-align: right;\n",
              "    }\n",
              "</style>\n",
              "<table border=\"1\" class=\"dataframe\">\n",
              "  <thead>\n",
              "    <tr style=\"text-align: right;\">\n",
              "      <th></th>\n",
              "      <th>Education</th>\n",
              "      <th>JoiningYear</th>\n",
              "      <th>City</th>\n",
              "      <th>PaymentTier</th>\n",
              "      <th>Age</th>\n",
              "      <th>Gender</th>\n",
              "      <th>EverBenched</th>\n",
              "      <th>ExperienceInCurrentDomain</th>\n",
              "      <th>LeaveOrNot</th>\n",
              "      <th>NewExperience</th>\n",
              "      <th>ExperienceCategory</th>\n",
              "      <th>InsuranceAmaount</th>\n",
              "    </tr>\n",
              "  </thead>\n",
              "  <tbody>\n",
              "    <tr>\n",
              "      <th>0</th>\n",
              "      <td>Bachelors</td>\n",
              "      <td>2017</td>\n",
              "      <td>Bangalore</td>\n",
              "      <td>3</td>\n",
              "      <td>34</td>\n",
              "      <td>Male</td>\n",
              "      <td>No</td>\n",
              "      <td>0</td>\n",
              "      <td>0</td>\n",
              "      <td>1</td>\n",
              "      <td>Junior</td>\n",
              "      <td>5000</td>\n",
              "    </tr>\n",
              "    <tr>\n",
              "      <th>1</th>\n",
              "      <td>Bachelors</td>\n",
              "      <td>2013</td>\n",
              "      <td>Pune</td>\n",
              "      <td>1</td>\n",
              "      <td>28</td>\n",
              "      <td>Female</td>\n",
              "      <td>No</td>\n",
              "      <td>3</td>\n",
              "      <td>1</td>\n",
              "      <td>4</td>\n",
              "      <td>Junior</td>\n",
              "      <td>5000</td>\n",
              "    </tr>\n",
              "    <tr>\n",
              "      <th>2</th>\n",
              "      <td>Bachelors</td>\n",
              "      <td>2014</td>\n",
              "      <td>New Delhi</td>\n",
              "      <td>3</td>\n",
              "      <td>38</td>\n",
              "      <td>Female</td>\n",
              "      <td>No</td>\n",
              "      <td>2</td>\n",
              "      <td>0</td>\n",
              "      <td>3</td>\n",
              "      <td>Junior</td>\n",
              "      <td>9000</td>\n",
              "    </tr>\n",
              "    <tr>\n",
              "      <th>3</th>\n",
              "      <td>Masters</td>\n",
              "      <td>2016</td>\n",
              "      <td>Bangalore</td>\n",
              "      <td>3</td>\n",
              "      <td>27</td>\n",
              "      <td>Male</td>\n",
              "      <td>No</td>\n",
              "      <td>5</td>\n",
              "      <td>1</td>\n",
              "      <td>6</td>\n",
              "      <td>Senior</td>\n",
              "      <td>3000</td>\n",
              "    </tr>\n",
              "    <tr>\n",
              "      <th>4</th>\n",
              "      <td>Masters</td>\n",
              "      <td>2017</td>\n",
              "      <td>Pune</td>\n",
              "      <td>3</td>\n",
              "      <td>24</td>\n",
              "      <td>Male</td>\n",
              "      <td>Yes</td>\n",
              "      <td>2</td>\n",
              "      <td>1</td>\n",
              "      <td>3</td>\n",
              "      <td>Junior</td>\n",
              "      <td>3000</td>\n",
              "    </tr>\n",
              "    <tr>\n",
              "      <th>...</th>\n",
              "      <td>...</td>\n",
              "      <td>...</td>\n",
              "      <td>...</td>\n",
              "      <td>...</td>\n",
              "      <td>...</td>\n",
              "      <td>...</td>\n",
              "      <td>...</td>\n",
              "      <td>...</td>\n",
              "      <td>...</td>\n",
              "      <td>...</td>\n",
              "      <td>...</td>\n",
              "      <td>...</td>\n",
              "    </tr>\n",
              "    <tr>\n",
              "      <th>4648</th>\n",
              "      <td>Bachelors</td>\n",
              "      <td>2013</td>\n",
              "      <td>Bangalore</td>\n",
              "      <td>3</td>\n",
              "      <td>26</td>\n",
              "      <td>Female</td>\n",
              "      <td>No</td>\n",
              "      <td>4</td>\n",
              "      <td>0</td>\n",
              "      <td>5</td>\n",
              "      <td>Senior</td>\n",
              "      <td>3000</td>\n",
              "    </tr>\n",
              "    <tr>\n",
              "      <th>4649</th>\n",
              "      <td>Masters</td>\n",
              "      <td>2013</td>\n",
              "      <td>Pune</td>\n",
              "      <td>2</td>\n",
              "      <td>37</td>\n",
              "      <td>Male</td>\n",
              "      <td>No</td>\n",
              "      <td>2</td>\n",
              "      <td>1</td>\n",
              "      <td>3</td>\n",
              "      <td>Junior</td>\n",
              "      <td>9000</td>\n",
              "    </tr>\n",
              "    <tr>\n",
              "      <th>4650</th>\n",
              "      <td>Masters</td>\n",
              "      <td>2018</td>\n",
              "      <td>New Delhi</td>\n",
              "      <td>3</td>\n",
              "      <td>27</td>\n",
              "      <td>Male</td>\n",
              "      <td>No</td>\n",
              "      <td>5</td>\n",
              "      <td>1</td>\n",
              "      <td>6</td>\n",
              "      <td>Senior</td>\n",
              "      <td>3000</td>\n",
              "    </tr>\n",
              "    <tr>\n",
              "      <th>4651</th>\n",
              "      <td>Bachelors</td>\n",
              "      <td>2012</td>\n",
              "      <td>Bangalore</td>\n",
              "      <td>3</td>\n",
              "      <td>30</td>\n",
              "      <td>Male</td>\n",
              "      <td>Yes</td>\n",
              "      <td>2</td>\n",
              "      <td>0</td>\n",
              "      <td>3</td>\n",
              "      <td>Junior</td>\n",
              "      <td>5000</td>\n",
              "    </tr>\n",
              "    <tr>\n",
              "      <th>4652</th>\n",
              "      <td>Bachelors</td>\n",
              "      <td>2015</td>\n",
              "      <td>Bangalore</td>\n",
              "      <td>3</td>\n",
              "      <td>33</td>\n",
              "      <td>Male</td>\n",
              "      <td>Yes</td>\n",
              "      <td>4</td>\n",
              "      <td>0</td>\n",
              "      <td>5</td>\n",
              "      <td>Senior</td>\n",
              "      <td>5000</td>\n",
              "    </tr>\n",
              "  </tbody>\n",
              "</table>\n",
              "<p>4653 rows × 12 columns</p>\n",
              "</div>\n",
              "      <button class=\"colab-df-convert\" onclick=\"convertToInteractive('df-6fbd6c2f-9db3-4033-9ffb-24e53553c254')\"\n",
              "              title=\"Convert this dataframe to an interactive table.\"\n",
              "              style=\"display:none;\">\n",
              "        \n",
              "  <svg xmlns=\"http://www.w3.org/2000/svg\" height=\"24px\"viewBox=\"0 0 24 24\"\n",
              "       width=\"24px\">\n",
              "    <path d=\"M0 0h24v24H0V0z\" fill=\"none\"/>\n",
              "    <path d=\"M18.56 5.44l.94 2.06.94-2.06 2.06-.94-2.06-.94-.94-2.06-.94 2.06-2.06.94zm-11 1L8.5 8.5l.94-2.06 2.06-.94-2.06-.94L8.5 2.5l-.94 2.06-2.06.94zm10 10l.94 2.06.94-2.06 2.06-.94-2.06-.94-.94-2.06-.94 2.06-2.06.94z\"/><path d=\"M17.41 7.96l-1.37-1.37c-.4-.4-.92-.59-1.43-.59-.52 0-1.04.2-1.43.59L10.3 9.45l-7.72 7.72c-.78.78-.78 2.05 0 2.83L4 21.41c.39.39.9.59 1.41.59.51 0 1.02-.2 1.41-.59l7.78-7.78 2.81-2.81c.8-.78.8-2.07 0-2.86zM5.41 20L4 18.59l7.72-7.72 1.47 1.35L5.41 20z\"/>\n",
              "  </svg>\n",
              "      </button>\n",
              "      \n",
              "  <style>\n",
              "    .colab-df-container {\n",
              "      display:flex;\n",
              "      flex-wrap:wrap;\n",
              "      gap: 12px;\n",
              "    }\n",
              "\n",
              "    .colab-df-convert {\n",
              "      background-color: #E8F0FE;\n",
              "      border: none;\n",
              "      border-radius: 50%;\n",
              "      cursor: pointer;\n",
              "      display: none;\n",
              "      fill: #1967D2;\n",
              "      height: 32px;\n",
              "      padding: 0 0 0 0;\n",
              "      width: 32px;\n",
              "    }\n",
              "\n",
              "    .colab-df-convert:hover {\n",
              "      background-color: #E2EBFA;\n",
              "      box-shadow: 0px 1px 2px rgba(60, 64, 67, 0.3), 0px 1px 3px 1px rgba(60, 64, 67, 0.15);\n",
              "      fill: #174EA6;\n",
              "    }\n",
              "\n",
              "    [theme=dark] .colab-df-convert {\n",
              "      background-color: #3B4455;\n",
              "      fill: #D2E3FC;\n",
              "    }\n",
              "\n",
              "    [theme=dark] .colab-df-convert:hover {\n",
              "      background-color: #434B5C;\n",
              "      box-shadow: 0px 1px 3px 1px rgba(0, 0, 0, 0.15);\n",
              "      filter: drop-shadow(0px 1px 2px rgba(0, 0, 0, 0.3));\n",
              "      fill: #FFFFFF;\n",
              "    }\n",
              "  </style>\n",
              "\n",
              "      <script>\n",
              "        const buttonEl =\n",
              "          document.querySelector('#df-6fbd6c2f-9db3-4033-9ffb-24e53553c254 button.colab-df-convert');\n",
              "        buttonEl.style.display =\n",
              "          google.colab.kernel.accessAllowed ? 'block' : 'none';\n",
              "\n",
              "        async function convertToInteractive(key) {\n",
              "          const element = document.querySelector('#df-6fbd6c2f-9db3-4033-9ffb-24e53553c254');\n",
              "          const dataTable =\n",
              "            await google.colab.kernel.invokeFunction('convertToInteractive',\n",
              "                                                     [key], {});\n",
              "          if (!dataTable) return;\n",
              "\n",
              "          const docLinkHtml = 'Like what you see? Visit the ' +\n",
              "            '<a target=\"_blank\" href=https://colab.research.google.com/notebooks/data_table.ipynb>data table notebook</a>'\n",
              "            + ' to learn more about interactive tables.';\n",
              "          element.innerHTML = '';\n",
              "          dataTable['output_type'] = 'display_data';\n",
              "          await google.colab.output.renderOutput(dataTable, element);\n",
              "          const docLink = document.createElement('div');\n",
              "          docLink.innerHTML = docLinkHtml;\n",
              "          element.appendChild(docLink);\n",
              "        }\n",
              "      </script>\n",
              "    </div>\n",
              "  </div>\n",
              "  "
            ]
          },
          "metadata": {},
          "execution_count": 22
        }
      ],
      "source": [
        "df"
      ]
    },
    {
      "cell_type": "code",
      "execution_count": 23,
      "id": "dcfac92d",
      "metadata": {
        "id": "dcfac92d",
        "outputId": "418d5a71-8cb2-4ede-ff9e-f4324088767f",
        "colab": {
          "base_uri": "https://localhost:8080/"
        }
      },
      "outputs": [
        {
          "output_type": "execute_result",
          "data": {
            "text/plain": [
              "array([5000, 9000, 3000])"
            ]
          },
          "metadata": {},
          "execution_count": 23
        }
      ],
      "source": [
        "df.InsuranceAmaount.unique()"
      ]
    },
    {
      "cell_type": "code",
      "execution_count": 24,
      "id": "434b4c5a",
      "metadata": {
        "id": "434b4c5a"
      },
      "outputs": [],
      "source": [
        "Ins1=[]\n",
        "for x in df['Age']:\n",
        "    if (20<=x<=27):\n",
        "        for y in df['Gender']:\n",
        "            if y=='Female':\n",
        "                    i=3000+(3000*10/100)\n",
        "                    Ins1.append(i)\n",
        "            else:\n",
        "                Ins1.append(3000)\n",
        "    elif 27<x<=35:\n",
        "        for y in df['Gender']:\n",
        "            if y=='Female':\n",
        "                    i=5000+(5000*12/100)\n",
        "                    Ins1.append(i)\n",
        "            else:\n",
        "                Ins1.append(5000)\n",
        "    elif x>35:\n",
        "        for y in df['Gender']:\n",
        "            if y=='Female':\n",
        "                    i=9000+(9000*15/100)\n",
        "                    Ins1.append(i)\n",
        "            else:\n",
        "                Ins1.append(9000)\n",
        "                \n",
        "\n",
        "           \n",
        "            "
      ]
    },
    {
      "cell_type": "code",
      "execution_count": 26,
      "id": "d764d975",
      "metadata": {
        "id": "d764d975",
        "outputId": "8b266aa5-670d-4459-9c9c-a47b33c51faf",
        "colab": {
          "base_uri": "https://localhost:8080/",
          "height": 341
        }
      },
      "outputs": [
        {
          "output_type": "error",
          "ename": "ValueError",
          "evalue": "ignored",
          "traceback": [
            "\u001b[0;31m---------------------------------------------------------------------------\u001b[0m",
            "\u001b[0;31mValueError\u001b[0m                                Traceback (most recent call last)",
            "\u001b[0;32m<ipython-input-26-fc29f68a6955>\u001b[0m in \u001b[0;36m<module>\u001b[0;34m\u001b[0m\n\u001b[0;32m----> 1\u001b[0;31m \u001b[0mdf\u001b[0m\u001b[0;34m[\u001b[0m\u001b[0;34m'InsuranceAmaount1'\u001b[0m\u001b[0;34m]\u001b[0m\u001b[0;34m=\u001b[0m\u001b[0mIns1\u001b[0m\u001b[0;34m\u001b[0m\u001b[0;34m\u001b[0m\u001b[0m\n\u001b[0m\u001b[1;32m      2\u001b[0m \u001b[0mdf\u001b[0m\u001b[0;34m.\u001b[0m\u001b[0mInsuranceAmaount1\u001b[0m\u001b[0;34m.\u001b[0m\u001b[0munique\u001b[0m\u001b[0;34m(\u001b[0m\u001b[0;34m)\u001b[0m\u001b[0;34m\u001b[0m\u001b[0;34m\u001b[0m\u001b[0m\n",
            "\u001b[0;32m/usr/local/lib/python3.8/dist-packages/pandas/core/frame.py\u001b[0m in \u001b[0;36m__setitem__\u001b[0;34m(self, key, value)\u001b[0m\n\u001b[1;32m   3610\u001b[0m         \u001b[0;32melse\u001b[0m\u001b[0;34m:\u001b[0m\u001b[0;34m\u001b[0m\u001b[0;34m\u001b[0m\u001b[0m\n\u001b[1;32m   3611\u001b[0m             \u001b[0;31m# set column\u001b[0m\u001b[0;34m\u001b[0m\u001b[0;34m\u001b[0m\u001b[0;34m\u001b[0m\u001b[0m\n\u001b[0;32m-> 3612\u001b[0;31m             \u001b[0mself\u001b[0m\u001b[0;34m.\u001b[0m\u001b[0m_set_item\u001b[0m\u001b[0;34m(\u001b[0m\u001b[0mkey\u001b[0m\u001b[0;34m,\u001b[0m \u001b[0mvalue\u001b[0m\u001b[0;34m)\u001b[0m\u001b[0;34m\u001b[0m\u001b[0;34m\u001b[0m\u001b[0m\n\u001b[0m\u001b[1;32m   3613\u001b[0m \u001b[0;34m\u001b[0m\u001b[0m\n\u001b[1;32m   3614\u001b[0m     \u001b[0;32mdef\u001b[0m \u001b[0m_setitem_slice\u001b[0m\u001b[0;34m(\u001b[0m\u001b[0mself\u001b[0m\u001b[0;34m,\u001b[0m \u001b[0mkey\u001b[0m\u001b[0;34m:\u001b[0m \u001b[0mslice\u001b[0m\u001b[0;34m,\u001b[0m \u001b[0mvalue\u001b[0m\u001b[0;34m)\u001b[0m\u001b[0;34m:\u001b[0m\u001b[0;34m\u001b[0m\u001b[0;34m\u001b[0m\u001b[0m\n",
            "\u001b[0;32m/usr/local/lib/python3.8/dist-packages/pandas/core/frame.py\u001b[0m in \u001b[0;36m_set_item\u001b[0;34m(self, key, value)\u001b[0m\n\u001b[1;32m   3782\u001b[0m         \u001b[0mensure\u001b[0m \u001b[0mhomogeneity\u001b[0m\u001b[0;34m.\u001b[0m\u001b[0;34m\u001b[0m\u001b[0;34m\u001b[0m\u001b[0m\n\u001b[1;32m   3783\u001b[0m         \"\"\"\n\u001b[0;32m-> 3784\u001b[0;31m         \u001b[0mvalue\u001b[0m \u001b[0;34m=\u001b[0m \u001b[0mself\u001b[0m\u001b[0;34m.\u001b[0m\u001b[0m_sanitize_column\u001b[0m\u001b[0;34m(\u001b[0m\u001b[0mvalue\u001b[0m\u001b[0;34m)\u001b[0m\u001b[0;34m\u001b[0m\u001b[0;34m\u001b[0m\u001b[0m\n\u001b[0m\u001b[1;32m   3785\u001b[0m \u001b[0;34m\u001b[0m\u001b[0m\n\u001b[1;32m   3786\u001b[0m         if (\n",
            "\u001b[0;32m/usr/local/lib/python3.8/dist-packages/pandas/core/frame.py\u001b[0m in \u001b[0;36m_sanitize_column\u001b[0;34m(self, value)\u001b[0m\n\u001b[1;32m   4507\u001b[0m \u001b[0;34m\u001b[0m\u001b[0m\n\u001b[1;32m   4508\u001b[0m         \u001b[0;32mif\u001b[0m \u001b[0mis_list_like\u001b[0m\u001b[0;34m(\u001b[0m\u001b[0mvalue\u001b[0m\u001b[0;34m)\u001b[0m\u001b[0;34m:\u001b[0m\u001b[0;34m\u001b[0m\u001b[0;34m\u001b[0m\u001b[0m\n\u001b[0;32m-> 4509\u001b[0;31m             \u001b[0mcom\u001b[0m\u001b[0;34m.\u001b[0m\u001b[0mrequire_length_match\u001b[0m\u001b[0;34m(\u001b[0m\u001b[0mvalue\u001b[0m\u001b[0;34m,\u001b[0m \u001b[0mself\u001b[0m\u001b[0;34m.\u001b[0m\u001b[0mindex\u001b[0m\u001b[0;34m)\u001b[0m\u001b[0;34m\u001b[0m\u001b[0;34m\u001b[0m\u001b[0m\n\u001b[0m\u001b[1;32m   4510\u001b[0m         \u001b[0;32mreturn\u001b[0m \u001b[0msanitize_array\u001b[0m\u001b[0;34m(\u001b[0m\u001b[0mvalue\u001b[0m\u001b[0;34m,\u001b[0m \u001b[0mself\u001b[0m\u001b[0;34m.\u001b[0m\u001b[0mindex\u001b[0m\u001b[0;34m,\u001b[0m \u001b[0mcopy\u001b[0m\u001b[0;34m=\u001b[0m\u001b[0;32mTrue\u001b[0m\u001b[0;34m,\u001b[0m \u001b[0mallow_2d\u001b[0m\u001b[0;34m=\u001b[0m\u001b[0;32mTrue\u001b[0m\u001b[0;34m)\u001b[0m\u001b[0;34m\u001b[0m\u001b[0;34m\u001b[0m\u001b[0m\n\u001b[1;32m   4511\u001b[0m \u001b[0;34m\u001b[0m\u001b[0m\n",
            "\u001b[0;32m/usr/local/lib/python3.8/dist-packages/pandas/core/common.py\u001b[0m in \u001b[0;36mrequire_length_match\u001b[0;34m(data, index)\u001b[0m\n\u001b[1;32m    529\u001b[0m     \"\"\"\n\u001b[1;32m    530\u001b[0m     \u001b[0;32mif\u001b[0m \u001b[0mlen\u001b[0m\u001b[0;34m(\u001b[0m\u001b[0mdata\u001b[0m\u001b[0;34m)\u001b[0m \u001b[0;34m!=\u001b[0m \u001b[0mlen\u001b[0m\u001b[0;34m(\u001b[0m\u001b[0mindex\u001b[0m\u001b[0;34m)\u001b[0m\u001b[0;34m:\u001b[0m\u001b[0;34m\u001b[0m\u001b[0;34m\u001b[0m\u001b[0m\n\u001b[0;32m--> 531\u001b[0;31m         raise ValueError(\n\u001b[0m\u001b[1;32m    532\u001b[0m             \u001b[0;34m\"Length of values \"\u001b[0m\u001b[0;34m\u001b[0m\u001b[0;34m\u001b[0m\u001b[0m\n\u001b[1;32m    533\u001b[0m             \u001b[0;34mf\"({len(data)}) \"\u001b[0m\u001b[0;34m\u001b[0m\u001b[0;34m\u001b[0m\u001b[0m\n",
            "\u001b[0;31mValueError\u001b[0m: Length of values (21650409) does not match length of index (4653)"
          ]
        }
      ],
      "source": [
        "df['InsuranceAmaount1']=Ins1\n",
        "df.InsuranceAmaount1.unique()"
      ]
    },
    {
      "cell_type": "code",
      "execution_count": 27,
      "id": "cae9fb21",
      "metadata": {
        "id": "cae9fb21",
        "outputId": "7f7cc567-7e13-4ace-983d-a1c5caf6b88a",
        "colab": {
          "base_uri": "https://localhost:8080/",
          "height": 244
        }
      },
      "outputs": [
        {
          "output_type": "error",
          "ename": "KeyboardInterrupt",
          "evalue": "ignored",
          "traceback": [
            "\u001b[0;31m---------------------------------------------------------------------------\u001b[0m",
            "\u001b[0;31mKeyboardInterrupt\u001b[0m                         Traceback (most recent call last)",
            "\u001b[0;32m<ipython-input-27-ffa950fce842>\u001b[0m in \u001b[0;36m<module>\u001b[0;34m\u001b[0m\n\u001b[1;32m      8\u001b[0m                         \u001b[0mi\u001b[0m\u001b[0;34m=\u001b[0m\u001b[0;36m3000\u001b[0m\u001b[0;34m+\u001b[0m\u001b[0;34m(\u001b[0m\u001b[0;36m3000\u001b[0m\u001b[0;34m*\u001b[0m\u001b[0;36m2\u001b[0m\u001b[0;34m/\u001b[0m\u001b[0;36m100\u001b[0m\u001b[0;34m)\u001b[0m\u001b[0;34m\u001b[0m\u001b[0;34m\u001b[0m\u001b[0m\n\u001b[1;32m      9\u001b[0m                         \u001b[0mIns\u001b[0m\u001b[0;34m.\u001b[0m\u001b[0mappend\u001b[0m\u001b[0;34m(\u001b[0m\u001b[0mi\u001b[0m\u001b[0;34m)\u001b[0m\u001b[0;34m\u001b[0m\u001b[0;34m\u001b[0m\u001b[0m\n\u001b[0;32m---> 10\u001b[0;31m                     \u001b[0;32melif\u001b[0m \u001b[0;36m27\u001b[0m\u001b[0;34m<\u001b[0m\u001b[0mx\u001b[0m\u001b[0;34m<=\u001b[0m\u001b[0;36m35\u001b[0m\u001b[0;34m:\u001b[0m\u001b[0;34m\u001b[0m\u001b[0;34m\u001b[0m\u001b[0m\n\u001b[0m\u001b[1;32m     11\u001b[0m                         \u001b[0mi\u001b[0m\u001b[0;34m=\u001b[0m\u001b[0;36m5000\u001b[0m\u001b[0;34m+\u001b[0m\u001b[0;34m(\u001b[0m\u001b[0;36m5000\u001b[0m\u001b[0;34m*\u001b[0m\u001b[0;36m2\u001b[0m\u001b[0;34m/\u001b[0m\u001b[0;36m100\u001b[0m\u001b[0;34m)\u001b[0m\u001b[0;34m\u001b[0m\u001b[0;34m\u001b[0m\u001b[0m\n\u001b[1;32m     12\u001b[0m                         \u001b[0mIns\u001b[0m\u001b[0;34m.\u001b[0m\u001b[0mappend\u001b[0m\u001b[0;34m(\u001b[0m\u001b[0mi\u001b[0m\u001b[0;34m)\u001b[0m\u001b[0;34m\u001b[0m\u001b[0;34m\u001b[0m\u001b[0m\n",
            "\u001b[0;31mKeyboardInterrupt\u001b[0m: "
          ]
        }
      ],
      "source": [
        "for x in df['Age']:\n",
        "    for y in df['Gender']:\n",
        "        for z in df['EverBenched']:\n",
        "            Ins=[]\n",
        "            if z=='Yes':\n",
        "                if y=='Male':\n",
        "                    if (20<=x<=27):\n",
        "                        i=3000+(3000*2/100)\n",
        "                        Ins.append(i)\n",
        "                    elif 27<x<=35:\n",
        "                        i=5000+(5000*2/100)\n",
        "                        Ins.append(i)\n",
        "                    elif x>35:\n",
        "                        i=9000+(9000*2/100)\n",
        "                        Ins.append(9000)\n",
        "                else:\n",
        "                    if (20<=x<=27):\n",
        "                        i=3000+(3000*10/100)+(3000*2/100)\n",
        "                        Ins.append(i)\n",
        "                    elif 27<x<=35:\n",
        "                        i=5000+(5000*12/100)+(5000*2/100)\n",
        "                        Ins.append(i)\n",
        "                    elif x>35:\n",
        "                        i=9000+(3000*15/100)+(9000*2/100)\n",
        "                        Ins.append(i)\n",
        "            else:\n",
        "                if y=='Male':\n",
        "                    if (20<=x<=27):\n",
        "                        i=3000\n",
        "                        Ins.append(i)\n",
        "                    elif 27<x<=35:\n",
        "                        i=5000\n",
        "                        Ins.append(i)\n",
        "                    elif x>35:\n",
        "                        i=9000\n",
        "                        Ins.append(9000)\n",
        "                else:\n",
        "                    if (20<=x<=27):\n",
        "                        i=3000+(3000*10/100)\n",
        "                        Ins.append(i)\n",
        "                    elif 27<x<=35:\n",
        "                        i=5000+(5000*12/100)\n",
        "                        Ins.append(i)\n",
        "                    elif x>35:\n",
        "                        i=9000+(3000*15/100)\n",
        "                        Ins.append(i)\n",
        "                "
      ]
    },
    {
      "cell_type": "code",
      "execution_count": null,
      "id": "6a3d1719",
      "metadata": {
        "id": "6a3d1719"
      },
      "outputs": [],
      "source": [
        "df['InsuranceAmaount']=Ins"
      ]
    },
    {
      "cell_type": "code",
      "execution_count": null,
      "id": "05f8ba02",
      "metadata": {
        "id": "05f8ba02"
      },
      "outputs": [],
      "source": [
        "def Insurance():\n",
        "    for for x in df['Age']:\n",
        "    for y in df['Gender']:\n",
        "        if y=='Male':\n",
        "            if (20<=x<=27):\n",
        "                Ins.append(3000)\n",
        "            elif 27<x<=35:\n",
        "                Ins.append(5000)\n",
        "            elif x>35:\n",
        "                Ins.append(9000)\n",
        "        else:\n",
        "            if (20<=x<=27):\n",
        "                i=3000+(3000*10/100)\n",
        "                Ins.append(i)\n",
        "            elif 27<x<=35:\n",
        "                i=5000+(5000*12/100)\n",
        "                Ins.append(i)\n",
        "            elif x>35:\n",
        "                i=9000+(9000*15/100)\n",
        "                Ins.append(i)"
      ]
    },
    {
      "cell_type": "code",
      "execution_count": null,
      "id": "0f8170f3",
      "metadata": {
        "id": "0f8170f3"
      },
      "outputs": [],
      "source": []
    }
  ],
  "metadata": {
    "kernelspec": {
      "display_name": "Python 3 (ipykernel)",
      "language": "python",
      "name": "python3"
    },
    "language_info": {
      "codemirror_mode": {
        "name": "ipython",
        "version": 3
      },
      "file_extension": ".py",
      "mimetype": "text/x-python",
      "name": "python",
      "nbconvert_exporter": "python",
      "pygments_lexer": "ipython3",
      "version": "3.9.12"
    },
    "colab": {
      "provenance": [],
      "include_colab_link": true
    }
  },
  "nbformat": 4,
  "nbformat_minor": 5
}